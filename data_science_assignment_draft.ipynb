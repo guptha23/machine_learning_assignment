{
 "cells": [
  {
   "cell_type": "code",
   "execution_count": 1,
   "metadata": {},
   "outputs": [
    {
     "data": {
      "text/plain": [
       "'\\n\\nPredicting customer purchase amount.\\n\\nAuthors:\\n-------\\n\\nGroup-123\\n\\nSnigdha Tarua - 2019ab04171\\nSanka Mahesh Sai - 2019ab04135\\nAravapalli Chandra Sekhar Gupta - 2019ab04187\\n\\n'"
      ]
     },
     "execution_count": 1,
     "metadata": {},
     "output_type": "execute_result"
    }
   ],
   "source": [
    "\"\"\"\n",
    "\n",
    "Predicting customer purchase amount.\n",
    "\n",
    "Authors:\n",
    "-------\n",
    "\n",
    "Group-123\n",
    "\n",
    "Snigdha Tarua - 2019ab04171\n",
    "Sanka Mahesh Sai - 2019ab04135\n",
    "Aravapalli Chandra Sekhar Gupta - 2019ab04187\n",
    "\n",
    "\"\"\""
   ]
  },
  {
   "cell_type": "markdown",
   "metadata": {},
   "source": [
    "## Problem Statement\n",
    "\n",
    "<hr>\n",
    "\n",
    "Predicting Customer Purchases. Analyze the data set and identify the most relevant factors that influence customer purchase behavior. Build a model that predicts the purchase amount of customer against various products so that the company can tailor their services and provide offers for customers towards different products.\n",
    "\n",
    "\n",
    "\n",
    "## List of objectives to be covered:\n",
    "\n",
    "<hr>\n",
    "\n",
    "1.\tWrite a Data Science Proposal for achieving the objective mentioned.\n",
    "2.\tPerform exploratory analysis on the data and describe your understanding of the data.\n",
    "3.\tPerform data wrangling / pre-processing (Module 8).\n",
    "    a.\tE.g., missing data, normalization, discretization, etc.\n",
    "4.\tApply any two feature selection engineering techniques (Module 8)\n",
    "5.\tCompare the two selected feature engineering techniques.\n",
    "6.\tPlot top 5, 6, and 8 features.\n",
    "7.\tProvide a high-level description of Machine Learning models – **Logistic regression** and Decision tree to predict.\n",
    "8.\tCompare the performance of the two classifiers – Logistic regression and Decision tree to predict.\n",
    "9.\tPresent the conclusions/results in the format shared.\n",
    "\n",
    "**TO BE CORRECTED : its is linear regression problem not logistic**"
   ]
  },
  {
   "cell_type": "code",
   "execution_count": 2,
   "metadata": {},
   "outputs": [
    {
     "data": {
      "text/html": [
       "<div>\n",
       "<style scoped>\n",
       "    .dataframe tbody tr th:only-of-type {\n",
       "        vertical-align: middle;\n",
       "    }\n",
       "\n",
       "    .dataframe tbody tr th {\n",
       "        vertical-align: top;\n",
       "    }\n",
       "\n",
       "    .dataframe thead th {\n",
       "        text-align: right;\n",
       "    }\n",
       "</style>\n",
       "<table border=\"1\" class=\"dataframe\">\n",
       "  <thead>\n",
       "    <tr style=\"text-align: right;\">\n",
       "      <th></th>\n",
       "      <th>User_ID</th>\n",
       "      <th>Product_ID</th>\n",
       "      <th>Gender</th>\n",
       "      <th>Age</th>\n",
       "      <th>Occupation</th>\n",
       "      <th>City_Category</th>\n",
       "      <th>Stay_In_Current_City_Years</th>\n",
       "      <th>Marital_Status</th>\n",
       "      <th>Product_Category_1</th>\n",
       "      <th>Product_Category_2</th>\n",
       "      <th>Product_Category_3</th>\n",
       "      <th>Purchase</th>\n",
       "    </tr>\n",
       "  </thead>\n",
       "  <tbody>\n",
       "    <tr>\n",
       "      <th>0</th>\n",
       "      <td>1000001</td>\n",
       "      <td>P00069042</td>\n",
       "      <td>F</td>\n",
       "      <td>0-17</td>\n",
       "      <td>10</td>\n",
       "      <td>A</td>\n",
       "      <td>2</td>\n",
       "      <td>0</td>\n",
       "      <td>3</td>\n",
       "      <td>NaN</td>\n",
       "      <td>NaN</td>\n",
       "      <td>8370</td>\n",
       "    </tr>\n",
       "    <tr>\n",
       "      <th>1</th>\n",
       "      <td>1000001</td>\n",
       "      <td>P00248942</td>\n",
       "      <td>F</td>\n",
       "      <td>0-17</td>\n",
       "      <td>10</td>\n",
       "      <td>A</td>\n",
       "      <td>2</td>\n",
       "      <td>0</td>\n",
       "      <td>1</td>\n",
       "      <td>6.0</td>\n",
       "      <td>14.0</td>\n",
       "      <td>15200</td>\n",
       "    </tr>\n",
       "    <tr>\n",
       "      <th>2</th>\n",
       "      <td>1000001</td>\n",
       "      <td>P00087842</td>\n",
       "      <td>F</td>\n",
       "      <td>0-17</td>\n",
       "      <td>10</td>\n",
       "      <td>A</td>\n",
       "      <td>2</td>\n",
       "      <td>0</td>\n",
       "      <td>12</td>\n",
       "      <td>NaN</td>\n",
       "      <td>NaN</td>\n",
       "      <td>1422</td>\n",
       "    </tr>\n",
       "    <tr>\n",
       "      <th>3</th>\n",
       "      <td>1000001</td>\n",
       "      <td>P00085442</td>\n",
       "      <td>F</td>\n",
       "      <td>0-17</td>\n",
       "      <td>10</td>\n",
       "      <td>A</td>\n",
       "      <td>2</td>\n",
       "      <td>0</td>\n",
       "      <td>12</td>\n",
       "      <td>14.0</td>\n",
       "      <td>NaN</td>\n",
       "      <td>1057</td>\n",
       "    </tr>\n",
       "    <tr>\n",
       "      <th>4</th>\n",
       "      <td>1000002</td>\n",
       "      <td>P00285442</td>\n",
       "      <td>M</td>\n",
       "      <td>55+</td>\n",
       "      <td>16</td>\n",
       "      <td>C</td>\n",
       "      <td>4+</td>\n",
       "      <td>0</td>\n",
       "      <td>8</td>\n",
       "      <td>NaN</td>\n",
       "      <td>NaN</td>\n",
       "      <td>7969</td>\n",
       "    </tr>\n",
       "  </tbody>\n",
       "</table>\n",
       "</div>"
      ],
      "text/plain": [
       "   User_ID Product_ID Gender   Age  Occupation City_Category  \\\n",
       "0  1000001  P00069042      F  0-17          10             A   \n",
       "1  1000001  P00248942      F  0-17          10             A   \n",
       "2  1000001  P00087842      F  0-17          10             A   \n",
       "3  1000001  P00085442      F  0-17          10             A   \n",
       "4  1000002  P00285442      M   55+          16             C   \n",
       "\n",
       "  Stay_In_Current_City_Years  Marital_Status  Product_Category_1  \\\n",
       "0                          2               0                   3   \n",
       "1                          2               0                   1   \n",
       "2                          2               0                  12   \n",
       "3                          2               0                  12   \n",
       "4                         4+               0                   8   \n",
       "\n",
       "   Product_Category_2  Product_Category_3  Purchase  \n",
       "0                 NaN                 NaN      8370  \n",
       "1                 6.0                14.0     15200  \n",
       "2                 NaN                 NaN      1422  \n",
       "3                14.0                 NaN      1057  \n",
       "4                 NaN                 NaN      7969  "
      ]
     },
     "execution_count": 2,
     "metadata": {},
     "output_type": "execute_result"
    }
   ],
   "source": [
    "import pandas as pd\n",
    "import numpy as np\n",
    "\n",
    "# loading the dataset\n",
    "data = pd.read_csv(\"CustPurchTrain.csv\")\n",
    "data.head()"
   ]
  },
  {
   "cell_type": "markdown",
   "metadata": {},
   "source": [
    "### Perform exploratory analysis on the data and describe your understanding of the data."
   ]
  },
  {
   "cell_type": "code",
   "execution_count": 3,
   "metadata": {},
   "outputs": [
    {
     "name": "stdout",
     "output_type": "stream",
     "text": [
      "<class 'pandas.core.frame.DataFrame'>\n",
      "RangeIndex: 550068 entries, 0 to 550067\n",
      "Data columns (total 12 columns):\n",
      "user_id                       550068 non-null int64\n",
      "product_id                    550068 non-null object\n",
      "gender                        550068 non-null object\n",
      "age                           550068 non-null object\n",
      "occupation                    550068 non-null int64\n",
      "city_category                 550068 non-null object\n",
      "stay_in_current_city_years    550068 non-null object\n",
      "marital_status                550068 non-null int64\n",
      "product_category_1            550068 non-null int64\n",
      "product_category_2            376430 non-null float64\n",
      "product_category_3            166821 non-null float64\n",
      "purchase                      550068 non-null int64\n",
      "dtypes: float64(2), int64(5), object(5)\n",
      "memory usage: 50.4+ MB\n"
     ]
    }
   ],
   "source": [
    "# converting column names to lower case.\n",
    "data.columns = [x.lower() for x in data.columns]\n",
    "data.info()"
   ]
  },
  {
   "cell_type": "code",
   "execution_count": 4,
   "metadata": {},
   "outputs": [
    {
     "data": {
      "text/html": [
       "<div>\n",
       "<style scoped>\n",
       "    .dataframe tbody tr th:only-of-type {\n",
       "        vertical-align: middle;\n",
       "    }\n",
       "\n",
       "    .dataframe tbody tr th {\n",
       "        vertical-align: top;\n",
       "    }\n",
       "\n",
       "    .dataframe thead th {\n",
       "        text-align: right;\n",
       "    }\n",
       "</style>\n",
       "<table border=\"1\" class=\"dataframe\">\n",
       "  <thead>\n",
       "    <tr style=\"text-align: right;\">\n",
       "      <th></th>\n",
       "      <th>user_id</th>\n",
       "      <th>occupation</th>\n",
       "      <th>marital_status</th>\n",
       "      <th>product_category_1</th>\n",
       "      <th>product_category_2</th>\n",
       "      <th>product_category_3</th>\n",
       "      <th>purchase</th>\n",
       "    </tr>\n",
       "  </thead>\n",
       "  <tbody>\n",
       "    <tr>\n",
       "      <th>count</th>\n",
       "      <td>550068.00</td>\n",
       "      <td>550068.00</td>\n",
       "      <td>550068.00</td>\n",
       "      <td>550068.00</td>\n",
       "      <td>376430.00</td>\n",
       "      <td>166821.00</td>\n",
       "      <td>550068.00</td>\n",
       "    </tr>\n",
       "    <tr>\n",
       "      <th>mean</th>\n",
       "      <td>1003028.84</td>\n",
       "      <td>8.08</td>\n",
       "      <td>0.41</td>\n",
       "      <td>5.40</td>\n",
       "      <td>9.84</td>\n",
       "      <td>12.67</td>\n",
       "      <td>9263.97</td>\n",
       "    </tr>\n",
       "    <tr>\n",
       "      <th>std</th>\n",
       "      <td>1727.59</td>\n",
       "      <td>6.52</td>\n",
       "      <td>0.49</td>\n",
       "      <td>3.94</td>\n",
       "      <td>5.09</td>\n",
       "      <td>4.13</td>\n",
       "      <td>5023.07</td>\n",
       "    </tr>\n",
       "    <tr>\n",
       "      <th>min</th>\n",
       "      <td>1000001.00</td>\n",
       "      <td>0.00</td>\n",
       "      <td>0.00</td>\n",
       "      <td>1.00</td>\n",
       "      <td>2.00</td>\n",
       "      <td>3.00</td>\n",
       "      <td>12.00</td>\n",
       "    </tr>\n",
       "    <tr>\n",
       "      <th>25%</th>\n",
       "      <td>1001516.00</td>\n",
       "      <td>2.00</td>\n",
       "      <td>0.00</td>\n",
       "      <td>1.00</td>\n",
       "      <td>5.00</td>\n",
       "      <td>9.00</td>\n",
       "      <td>5823.00</td>\n",
       "    </tr>\n",
       "    <tr>\n",
       "      <th>50%</th>\n",
       "      <td>1003077.00</td>\n",
       "      <td>7.00</td>\n",
       "      <td>0.00</td>\n",
       "      <td>5.00</td>\n",
       "      <td>9.00</td>\n",
       "      <td>14.00</td>\n",
       "      <td>8047.00</td>\n",
       "    </tr>\n",
       "    <tr>\n",
       "      <th>75%</th>\n",
       "      <td>1004478.00</td>\n",
       "      <td>14.00</td>\n",
       "      <td>1.00</td>\n",
       "      <td>8.00</td>\n",
       "      <td>15.00</td>\n",
       "      <td>16.00</td>\n",
       "      <td>12054.00</td>\n",
       "    </tr>\n",
       "    <tr>\n",
       "      <th>max</th>\n",
       "      <td>1006040.00</td>\n",
       "      <td>20.00</td>\n",
       "      <td>1.00</td>\n",
       "      <td>20.00</td>\n",
       "      <td>18.00</td>\n",
       "      <td>18.00</td>\n",
       "      <td>23961.00</td>\n",
       "    </tr>\n",
       "  </tbody>\n",
       "</table>\n",
       "</div>"
      ],
      "text/plain": [
       "         user_id  occupation  marital_status  product_category_1  \\\n",
       "count  550068.00   550068.00       550068.00           550068.00   \n",
       "mean  1003028.84        8.08            0.41                5.40   \n",
       "std      1727.59        6.52            0.49                3.94   \n",
       "min   1000001.00        0.00            0.00                1.00   \n",
       "25%   1001516.00        2.00            0.00                1.00   \n",
       "50%   1003077.00        7.00            0.00                5.00   \n",
       "75%   1004478.00       14.00            1.00                8.00   \n",
       "max   1006040.00       20.00            1.00               20.00   \n",
       "\n",
       "       product_category_2  product_category_3  purchase  \n",
       "count           376430.00           166821.00 550068.00  \n",
       "mean                 9.84               12.67   9263.97  \n",
       "std                  5.09                4.13   5023.07  \n",
       "min                  2.00                3.00     12.00  \n",
       "25%                  5.00                9.00   5823.00  \n",
       "50%                  9.00               14.00   8047.00  \n",
       "75%                 15.00               16.00  12054.00  \n",
       "max                 18.00               18.00  23961.00  "
      ]
     },
     "execution_count": 4,
     "metadata": {},
     "output_type": "execute_result"
    }
   ],
   "source": [
    "# let's understand briefly about data distribution.\n",
    "# removing scientific notation to understand the data better.\n",
    "pd.options.display.float_format = \"{:.2f}\".format\n",
    "data.describe()"
   ]
  },
  {
   "cell_type": "code",
   "execution_count": 5,
   "metadata": {},
   "outputs": [
    {
     "data": {
      "text/html": [
       "<div>\n",
       "<style scoped>\n",
       "    .dataframe tbody tr th:only-of-type {\n",
       "        vertical-align: middle;\n",
       "    }\n",
       "\n",
       "    .dataframe tbody tr th {\n",
       "        vertical-align: top;\n",
       "    }\n",
       "\n",
       "    .dataframe thead th {\n",
       "        text-align: right;\n",
       "    }\n",
       "</style>\n",
       "<table border=\"1\" class=\"dataframe\">\n",
       "  <thead>\n",
       "    <tr style=\"text-align: right;\">\n",
       "      <th></th>\n",
       "      <th>product_id</th>\n",
       "      <th>gender</th>\n",
       "      <th>age</th>\n",
       "      <th>city_category</th>\n",
       "      <th>stay_in_current_city_years</th>\n",
       "    </tr>\n",
       "  </thead>\n",
       "  <tbody>\n",
       "    <tr>\n",
       "      <th>count</th>\n",
       "      <td>550068</td>\n",
       "      <td>550068</td>\n",
       "      <td>550068</td>\n",
       "      <td>550068</td>\n",
       "      <td>550068</td>\n",
       "    </tr>\n",
       "    <tr>\n",
       "      <th>unique</th>\n",
       "      <td>3631</td>\n",
       "      <td>2</td>\n",
       "      <td>7</td>\n",
       "      <td>3</td>\n",
       "      <td>5</td>\n",
       "    </tr>\n",
       "    <tr>\n",
       "      <th>top</th>\n",
       "      <td>P00265242</td>\n",
       "      <td>M</td>\n",
       "      <td>26-35</td>\n",
       "      <td>B</td>\n",
       "      <td>1</td>\n",
       "    </tr>\n",
       "    <tr>\n",
       "      <th>freq</th>\n",
       "      <td>1880</td>\n",
       "      <td>414259</td>\n",
       "      <td>219587</td>\n",
       "      <td>231173</td>\n",
       "      <td>193821</td>\n",
       "    </tr>\n",
       "  </tbody>\n",
       "</table>\n",
       "</div>"
      ],
      "text/plain": [
       "       product_id  gender     age city_category stay_in_current_city_years\n",
       "count      550068  550068  550068        550068                     550068\n",
       "unique       3631       2       7             3                          5\n",
       "top     P00265242       M   26-35             B                          1\n",
       "freq         1880  414259  219587        231173                     193821"
      ]
     },
     "execution_count": 5,
     "metadata": {},
     "output_type": "execute_result"
    }
   ],
   "source": [
    "data.describe(include=\"object\")"
   ]
  },
  {
   "cell_type": "code",
   "execution_count": 6,
   "metadata": {},
   "outputs": [
    {
     "name": "stdout",
     "output_type": "stream",
     "text": [
      "Null value counts across all columns\n"
     ]
    },
    {
     "data": {
      "text/plain": [
       "user_id                            0\n",
       "product_id                         0\n",
       "gender                             0\n",
       "age                                0\n",
       "occupation                         0\n",
       "city_category                      0\n",
       "stay_in_current_city_years         0\n",
       "marital_status                     0\n",
       "product_category_1                 0\n",
       "product_category_2            173638\n",
       "product_category_3            383247\n",
       "purchase                           0\n",
       "dtype: int64"
      ]
     },
     "metadata": {},
     "output_type": "display_data"
    },
    {
     "name": "stdout",
     "output_type": "stream",
     "text": [
      "----------------------------------------\n",
      "Null value percentage across all columns\n"
     ]
    },
    {
     "data": {
      "text/plain": [
       "user_id                      0.00\n",
       "product_id                   0.00\n",
       "gender                       0.00\n",
       "age                          0.00\n",
       "occupation                   0.00\n",
       "city_category                0.00\n",
       "stay_in_current_city_years   0.00\n",
       "marital_status               0.00\n",
       "product_category_1           0.00\n",
       "product_category_2           0.32\n",
       "product_category_3           0.70\n",
       "purchase                     0.00\n",
       "dtype: float64"
      ]
     },
     "metadata": {},
     "output_type": "display_data"
    }
   ],
   "source": [
    "print(\"Null value counts across all columns\")\n",
    "display(data.isnull().sum())\n",
    "print(\"----------------------------------------\")\n",
    "print(\"Null value percentage across all columns\")\n",
    "display(data.isnull().mean())"
   ]
  },
  {
   "cell_type": "markdown",
   "metadata": {},
   "source": [
    "#### <font color=\"green\">Observations:\n",
    "\n",
    "* We have found that 32 % of product_category_2 and 70% of product_category_1 is missing.\n",
    "* As product categories are masked and corresponding values doesn't indicate anything clearly -- we can't take the decision of how to fill them now."
   ]
  },
  {
   "cell_type": "markdown",
   "metadata": {},
   "source": [
    "#### <font color=\"blue\"> Distribution of target variable"
   ]
  },
  {
   "cell_type": "code",
   "execution_count": 7,
   "metadata": {},
   "outputs": [
    {
     "data": {
      "image/png": "[encoded data removed]",
      "text/plain": [
       "<Figure size 1080x576 with 2 Axes>"
      ]
     },
     "metadata": {
      "needs_background": "light"
     },
     "output_type": "display_data"
    }
   ],
   "source": [
    "import seaborn as sns\n",
    "import matplotlib.pyplot as plt\n",
    "%matplotlib inline\n",
    "\n",
    "plt.figure(figsize=(15,8))\n",
    "\n",
    "plt.subplot(121)\n",
    "sns.distplot(data[\"purchase\"])\n",
    "plt.title(\"Purchase distribution\")\n",
    "plt.xlabel(\"Amount spent\")\n",
    "plt.ylabel(\"Frequency\")\n",
    "\n",
    "plt.subplot(122)\n",
    "data.boxplot(column=[\"purchase\"])\n",
    "\n",
    "plt.show()"
   ]
  },
  {
   "cell_type": "markdown",
   "metadata": {},
   "source": [
    "#### <font color=\"green\">Observations:\n",
    "\n",
    "* Our target variable spans from 0 - 25000.\n",
    "* We can notice more than 50% of data is in the range of 5000 to 12000"
   ]
  },
  {
   "cell_type": "markdown",
   "metadata": {},
   "source": [
    "#### <font color=\"blue\"> Let's check the strength of correlation"
   ]
  },
  {
   "cell_type": "code",
   "execution_count": 8,
   "metadata": {},
   "outputs": [
    {
     "data": {
      "text/plain": [
       "(7.0, 0.0)"
      ]
     },
     "execution_count": 8,
     "metadata": {},
     "output_type": "execute_result"
    },
    {
     "data": {
      "image/png": "[encoded data removed]",
      "text/plain": [
       "<Figure size 864x576 with 2 Axes>"
      ]
     },
     "metadata": {
      "needs_background": "light"
     },
     "output_type": "display_data"
    }
   ],
   "source": [
    "plt.figure(figsize=(12,8))\n",
    "df_corr = data.corr()\n",
    "ax = sns.heatmap(df_corr, annot=True) #notation: \"annot\" not \"annote\"\n",
    "bottom, top = ax.get_ylim()\n",
    "ax.set_ylim(bottom + 0.5, top - 0.5)"
   ]
  },
  {
   "cell_type": "markdown",
   "metadata": {},
   "source": [
    "#### <font color=\"green\">Observations:\n",
    "\n",
    "* We can observe the trend that only product category 1 and product category 2 are negatively correlated to purchase.\n",
    "* All the other independent features are neither strongly correlated to each other or the target.\n",
    "* This indicates that we don't have any strong liner relationship in the dataset."
   ]
  },
  {
   "cell_type": "markdown",
   "metadata": {},
   "source": [
    "### <font color=\"blue\"> As we started to analyse dataset and target variable -- let's dig deeper to individual variable and understand about each feature."
   ]
  },
  {
   "cell_type": "code",
   "execution_count": 9,
   "metadata": {},
   "outputs": [
    {
     "name": "stdout",
     "output_type": "stream",
     "text": [
      "<class 'pandas.core.frame.DataFrame'>\n",
      "RangeIndex: 550068 entries, 0 to 550067\n",
      "Data columns (total 12 columns):\n",
      "user_id                       550068 non-null int64\n",
      "product_id                    550068 non-null object\n",
      "gender                        550068 non-null object\n",
      "age                           550068 non-null object\n",
      "occupation                    550068 non-null int64\n",
      "city_category                 550068 non-null object\n",
      "stay_in_current_city_years    550068 non-null object\n",
      "marital_status                550068 non-null int64\n",
      "product_category_1            550068 non-null int64\n",
      "product_category_2            376430 non-null float64\n",
      "product_category_3            166821 non-null float64\n",
      "purchase                      550068 non-null int64\n",
      "dtypes: float64(2), int64(5), object(5)\n",
      "memory usage: 50.4+ MB\n"
     ]
    }
   ],
   "source": [
    "# all the corresponding columns\n",
    "data.info()"
   ]
  },
  {
   "cell_type": "code",
   "execution_count": 10,
   "metadata": {},
   "outputs": [
    {
     "data": {
      "text/plain": [
       "count      550068\n",
       "unique       5891\n",
       "top       1001680\n",
       "freq         1026\n",
       "Name: user_id, dtype: object"
      ]
     },
     "metadata": {},
     "output_type": "display_data"
    }
   ],
   "source": [
    "# user_id can be disrete value and let's make it an object.\n",
    "temp = data[\"user_id\"].astype(str)\n",
    "display(temp.describe())"
   ]
  },
  {
   "cell_type": "code",
   "execution_count": 11,
   "metadata": {},
   "outputs": [
    {
     "data": {
      "text/plain": [
       "count        550068\n",
       "unique         3631\n",
       "top       P00265242\n",
       "freq           1880\n",
       "Name: product_id, dtype: object"
      ]
     },
     "metadata": {},
     "output_type": "display_data"
    }
   ],
   "source": [
    "temp = data[\"product_id\"].astype(str)\n",
    "display(temp.describe())"
   ]
  },
  {
   "cell_type": "markdown",
   "metadata": {},
   "source": [
    "#### <font color=\"green\">Observations:\n",
    "\n",
    "* We can understand a important factor that we have only **5891 unique customers and only 3631 unique products**.\n",
    "* An user purchased **1026 items**.(highest by any user)\n",
    "* A particular product was bought by **1880 customers.** (higher than any other product)"
   ]
  },
  {
   "cell_type": "code",
   "execution_count": 12,
   "metadata": {},
   "outputs": [],
   "source": [
    "def print_dist(col):\n",
    "    print(col+\" Distribution\")\n",
    "    print(\"-\"*len(col+\" Distribution\"))\n",
    "    count_dict = dict(data[col].value_counts())\n",
    "    count_dict_percentage = dict(data[col].value_counts(normalize=True))\n",
    "\n",
    "    print(\"Value\\tCount\\tPercentage\")\n",
    "    for key in count_dict:\n",
    "        print(str(key)+\"\\t\"+str(count_dict[key])+\"\\t\"+str(count_dict_percentage[key].round(2)))\n",
    "\n",
    "    sns.countplot(data[col]);"
   ]
  },
  {
   "cell_type": "code",
   "execution_count": 13,
   "metadata": {},
   "outputs": [
    {
     "name": "stdout",
     "output_type": "stream",
     "text": [
      "gender Distribution\n",
      "-------------------\n",
      "Value\tCount\tPercentage\n",
      "M\t414259\t0.75\n",
      "F\t135809\t0.25\n"
     ]
    },
    {
     "data": {
      "image/png": "[encoded data removed]",
      "text/plain": [
       "<Figure size 432x288 with 1 Axes>"
      ]
     },
     "metadata": {
      "needs_background": "light"
     },
     "output_type": "display_data"
    }
   ],
   "source": [
    "print_dist(\"gender\")"
   ]
  },
  {
   "cell_type": "markdown",
   "metadata": {},
   "source": [
    "#### <font color=\"green\">Observations:\n",
    "\n",
    "* Men made highest number of purchases and around 75% of them."
   ]
  },
  {
   "cell_type": "code",
   "execution_count": 14,
   "metadata": {},
   "outputs": [
    {
     "name": "stdout",
     "output_type": "stream",
     "text": [
      "age Distribution\n",
      "----------------\n",
      "Value\tCount\tPercentage\n",
      "26-35\t219587\t0.4\n",
      "36-45\t110013\t0.2\n",
      "18-25\t99660\t0.18\n",
      "46-50\t45701\t0.08\n",
      "51-55\t38501\t0.07\n",
      "55+\t21504\t0.04\n",
      "0-17\t15102\t0.03\n"
     ]
    },
    {
     "data": {
      "image/png": "[encoded data removed]",
      "text/plain": [
       "<Figure size 432x288 with 1 Axes>"
      ]
     },
     "metadata": {
      "needs_background": "light"
     },
     "output_type": "display_data"
    }
   ],
   "source": [
    "print_dist(\"age\")"
   ]
  },
  {
   "cell_type": "markdown",
   "metadata": {},
   "source": [
    "#### <font color=\"green\">Observations:\n",
    "\n",
    "* This shows a good trend that **40% of purchases are made by people in 26-35 age group.**\n",
    "* Kids from **0-17 years hardly shopped and account for only 0.03% of number of purchases.**"
   ]
  },
  {
   "cell_type": "code",
   "execution_count": 15,
   "metadata": {},
   "outputs": [
    {
     "name": "stdout",
     "output_type": "stream",
     "text": [
      "occupation Distribution\n",
      "-----------------------\n",
      "Value\tCount\tPercentage\n",
      "4\t72308\t0.13\n",
      "0\t69638\t0.13\n",
      "7\t59133\t0.11\n",
      "1\t47426\t0.09\n",
      "17\t40043\t0.07\n",
      "20\t33562\t0.06\n",
      "12\t31179\t0.06\n",
      "14\t27309\t0.05\n",
      "2\t26588\t0.05\n",
      "16\t25371\t0.05\n",
      "6\t20355\t0.04\n",
      "3\t17650\t0.03\n",
      "10\t12930\t0.02\n",
      "5\t12177\t0.02\n",
      "15\t12165\t0.02\n",
      "11\t11586\t0.02\n",
      "19\t8461\t0.02\n",
      "13\t7728\t0.01\n",
      "18\t6622\t0.01\n",
      "9\t6291\t0.01\n",
      "8\t1546\t0.0\n"
     ]
    },
    {
     "data": {
      "image/png": "[encoded data removed]",
      "text/plain": [
       "<Figure size 432x288 with 1 Axes>"
      ]
     },
     "metadata": {
      "needs_background": "light"
     },
     "output_type": "display_data"
    }
   ],
   "source": [
    "print_dist(\"occupation\")"
   ]
  },
  {
   "cell_type": "markdown",
   "metadata": {},
   "source": [
    "#### <font color=\"green\">Observations:\n",
    "\n",
    "* We are not sure of mapping of numbers to occupations but we can understand that **occupation 4** made highest number of purchases and **occupation 8** made least number of purchases."
   ]
  },
  {
   "cell_type": "code",
   "execution_count": 16,
   "metadata": {},
   "outputs": [
    {
     "name": "stdout",
     "output_type": "stream",
     "text": [
      "city_category Distribution\n",
      "--------------------------\n",
      "Value\tCount\tPercentage\n",
      "B\t231173\t0.42\n",
      "C\t171175\t0.31\n",
      "A\t147720\t0.27\n"
     ]
    },
    {
     "data": {
      "image/png": "[encoded data removed]",
      "text/plain": [
       "<Figure size 432x288 with 1 Axes>"
      ]
     },
     "metadata": {
      "needs_background": "light"
     },
     "output_type": "display_data"
    }
   ],
   "source": [
    "print_dist(\"city_category\")"
   ]
  },
  {
   "cell_type": "markdown",
   "metadata": {},
   "source": [
    "#### <font color=\"green\">Observations:\n",
    "\n",
    "* People from **city category B** tend to shop more."
   ]
  },
  {
   "cell_type": "code",
   "execution_count": 17,
   "metadata": {},
   "outputs": [
    {
     "name": "stdout",
     "output_type": "stream",
     "text": [
      "stay_in_current_city_years Distribution\n",
      "---------------------------------------\n",
      "Value\tCount\tPercentage\n",
      "1\t193821\t0.35\n",
      "2\t101838\t0.19\n",
      "3\t95285\t0.17\n",
      "4+\t84726\t0.15\n",
      "0\t74398\t0.14\n"
     ]
    },
    {
     "data": {
      "image/png": "[encoded data removed]",
      "text/plain": [
       "<Figure size 432x288 with 1 Axes>"
      ]
     },
     "metadata": {
      "needs_background": "light"
     },
     "output_type": "display_data"
    }
   ],
   "source": [
    "print_dist(\"stay_in_current_city_years\")"
   ]
  },
  {
   "cell_type": "markdown",
   "metadata": {},
   "source": [
    "#### <font color=\"green\">Observations:\n",
    "\n",
    "* Most of the purchases are made by people who are relatively new to city.\n",
    "* May be they have settled down and now purchasing the necessities."
   ]
  },
  {
   "cell_type": "code",
   "execution_count": 18,
   "metadata": {},
   "outputs": [
    {
     "name": "stdout",
     "output_type": "stream",
     "text": [
      "marital_status Distribution\n",
      "---------------------------\n",
      "Value\tCount\tPercentage\n",
      "0\t324731\t0.59\n",
      "1\t225337\t0.41\n"
     ]
    },
    {
     "data": {
      "image/png": "[encoded data removed]",
      "text/plain": [
       "<Figure size 432x288 with 1 Axes>"
      ]
     },
     "metadata": {
      "needs_background": "light"
     },
     "output_type": "display_data"
    }
   ],
   "source": [
    "print_dist(\"marital_status\")"
   ]
  },
  {
   "cell_type": "markdown",
   "metadata": {},
   "source": [
    "#### <font color=\"green\">Observations:\n",
    "\n",
    "* Assuming **0 to be unmarried and 1 to be married**\n",
    "* Singles shopped more."
   ]
  },
  {
   "cell_type": "code",
   "execution_count": 19,
   "metadata": {},
   "outputs": [
    {
     "name": "stdout",
     "output_type": "stream",
     "text": [
      "product_category_1 Distribution\n",
      "-------------------------------\n",
      "Value\tCount\tPercentage\n",
      "5\t150933\t0.27\n",
      "1\t140378\t0.26\n",
      "8\t113925\t0.21\n",
      "11\t24287\t0.04\n",
      "2\t23864\t0.04\n",
      "6\t20466\t0.04\n",
      "3\t20213\t0.04\n",
      "4\t11753\t0.02\n",
      "16\t9828\t0.02\n",
      "15\t6290\t0.01\n",
      "13\t5549\t0.01\n",
      "10\t5125\t0.01\n",
      "12\t3947\t0.01\n",
      "7\t3721\t0.01\n",
      "18\t3125\t0.01\n",
      "20\t2550\t0.0\n",
      "19\t1603\t0.0\n",
      "14\t1523\t0.0\n",
      "17\t578\t0.0\n",
      "9\t410\t0.0\n"
     ]
    },
    {
     "data": {
      "image/png": "[encoded data removed]",
      "text/plain": [
       "<Figure size 432x288 with 1 Axes>"
      ]
     },
     "metadata": {
      "needs_background": "light"
     },
     "output_type": "display_data"
    }
   ],
   "source": [
    "print_dist(\"product_category_1\")"
   ]
  },
  {
   "cell_type": "markdown",
   "metadata": {},
   "source": [
    "#### <font color=\"green\">Observations:\n",
    "\n",
    "* More than **70% purchase products 5, 1, 8 in product_category_1**"
   ]
  },
  {
   "cell_type": "code",
   "execution_count": 20,
   "metadata": {},
   "outputs": [
    {
     "name": "stdout",
     "output_type": "stream",
     "text": [
      "product_category_2 Distribution\n",
      "-------------------------------\n",
      "Value\tCount\tPercentage\n",
      "8.0\t64088\t0.17\n",
      "14.0\t55108\t0.15\n",
      "2.0\t49217\t0.13\n",
      "16.0\t43255\t0.11\n",
      "15.0\t37855\t0.1\n",
      "5.0\t26235\t0.07\n",
      "4.0\t25677\t0.07\n",
      "6.0\t16466\t0.04\n",
      "11.0\t14134\t0.04\n",
      "17.0\t13320\t0.04\n",
      "13.0\t10531\t0.03\n",
      "9.0\t5693\t0.02\n",
      "12.0\t5528\t0.01\n",
      "10.0\t3043\t0.01\n",
      "3.0\t2884\t0.01\n",
      "18.0\t2770\t0.01\n",
      "7.0\t626\t0.0\n"
     ]
    },
    {
     "data": {
      "image/png": "[encoded data removed]",
      "text/plain": [
       "<Figure size 432x288 with 1 Axes>"
      ]
     },
     "metadata": {
      "needs_background": "light"
     },
     "output_type": "display_data"
    }
   ],
   "source": [
    "print_dist(\"product_category_2\")"
   ]
  },
  {
   "cell_type": "markdown",
   "metadata": {},
   "source": [
    "#### <font color=\"green\">Observations:\n",
    "\n",
    "* Here, items 8, 14, 2 show a uptick in the purchase amount."
   ]
  },
  {
   "cell_type": "code",
   "execution_count": 21,
   "metadata": {},
   "outputs": [
    {
     "name": "stdout",
     "output_type": "stream",
     "text": [
      "product_category_3 Distribution\n",
      "-------------------------------\n",
      "Value\tCount\tPercentage\n",
      "16.0\t32636\t0.2\n",
      "15.0\t28013\t0.17\n",
      "14.0\t18428\t0.11\n",
      "17.0\t16702\t0.1\n",
      "5.0\t16658\t0.1\n",
      "8.0\t12562\t0.08\n",
      "9.0\t11579\t0.07\n",
      "12.0\t9246\t0.06\n",
      "13.0\t5459\t0.03\n",
      "6.0\t4890\t0.03\n",
      "18.0\t4629\t0.03\n",
      "4.0\t1875\t0.01\n",
      "11.0\t1805\t0.01\n",
      "10.0\t1726\t0.01\n",
      "3.0\t613\t0.0\n"
     ]
    },
    {
     "data": {
      "image/png": "[encoded data removed]",
      "text/plain": [
       "<Figure size 432x288 with 1 Axes>"
      ]
     },
     "metadata": {
      "needs_background": "light"
     },
     "output_type": "display_data"
    }
   ],
   "source": [
    "print_dist(\"product_category_3\")"
   ]
  },
  {
   "cell_type": "markdown",
   "metadata": {},
   "source": [
    "#### <font color=\"green\">Observations:\n",
    "\n",
    "* Here, we have 16, 14 in most buying list."
   ]
  },
  {
   "cell_type": "markdown",
   "metadata": {},
   "source": [
    "### <font color=\"blue\"> As we have some clear trend using individual variables -- let's try to peform some bivariate analysis"
   ]
  },
  {
   "cell_type": "code",
   "execution_count": 22,
   "metadata": {},
   "outputs": [
    {
     "data": {
      "text/html": [
       "<div>\n",
       "<style scoped>\n",
       "    .dataframe tbody tr th:only-of-type {\n",
       "        vertical-align: middle;\n",
       "    }\n",
       "\n",
       "    .dataframe tbody tr th {\n",
       "        vertical-align: top;\n",
       "    }\n",
       "\n",
       "    .dataframe thead th {\n",
       "        text-align: right;\n",
       "    }\n",
       "</style>\n",
       "<table border=\"1\" class=\"dataframe\">\n",
       "  <thead>\n",
       "    <tr style=\"text-align: right;\">\n",
       "      <th></th>\n",
       "      <th>purchase</th>\n",
       "    </tr>\n",
       "    <tr>\n",
       "      <th>occupation</th>\n",
       "      <th></th>\n",
       "    </tr>\n",
       "  </thead>\n",
       "  <tbody>\n",
       "    <tr>\n",
       "      <th>0</th>\n",
       "      <td>635406958</td>\n",
       "    </tr>\n",
       "    <tr>\n",
       "      <th>1</th>\n",
       "      <td>424614144</td>\n",
       "    </tr>\n",
       "    <tr>\n",
       "      <th>2</th>\n",
       "      <td>238028583</td>\n",
       "    </tr>\n",
       "    <tr>\n",
       "      <th>3</th>\n",
       "      <td>162002168</td>\n",
       "    </tr>\n",
       "    <tr>\n",
       "      <th>4</th>\n",
       "      <td>666244484</td>\n",
       "    </tr>\n",
       "    <tr>\n",
       "      <th>5</th>\n",
       "      <td>113649759</td>\n",
       "    </tr>\n",
       "    <tr>\n",
       "      <th>6</th>\n",
       "      <td>188416784</td>\n",
       "    </tr>\n",
       "    <tr>\n",
       "      <th>7</th>\n",
       "      <td>557371587</td>\n",
       "    </tr>\n",
       "    <tr>\n",
       "      <th>8</th>\n",
       "      <td>14737388</td>\n",
       "    </tr>\n",
       "    <tr>\n",
       "      <th>9</th>\n",
       "      <td>54340046</td>\n",
       "    </tr>\n",
       "    <tr>\n",
       "      <th>10</th>\n",
       "      <td>115844465</td>\n",
       "    </tr>\n",
       "    <tr>\n",
       "      <th>11</th>\n",
       "      <td>106751618</td>\n",
       "    </tr>\n",
       "    <tr>\n",
       "      <th>12</th>\n",
       "      <td>305449446</td>\n",
       "    </tr>\n",
       "    <tr>\n",
       "      <th>13</th>\n",
       "      <td>71919481</td>\n",
       "    </tr>\n",
       "    <tr>\n",
       "      <th>14</th>\n",
       "      <td>259454692</td>\n",
       "    </tr>\n",
       "    <tr>\n",
       "      <th>15</th>\n",
       "      <td>118960211</td>\n",
       "    </tr>\n",
       "    <tr>\n",
       "      <th>16</th>\n",
       "      <td>238346955</td>\n",
       "    </tr>\n",
       "    <tr>\n",
       "      <th>17</th>\n",
       "      <td>393281453</td>\n",
       "    </tr>\n",
       "    <tr>\n",
       "      <th>18</th>\n",
       "      <td>60721461</td>\n",
       "    </tr>\n",
       "    <tr>\n",
       "      <th>19</th>\n",
       "      <td>73700617</td>\n",
       "    </tr>\n",
       "    <tr>\n",
       "      <th>20</th>\n",
       "      <td>296570442</td>\n",
       "    </tr>\n",
       "  </tbody>\n",
       "</table>\n",
       "</div>"
      ],
      "text/plain": [
       "             purchase\n",
       "occupation           \n",
       "0           635406958\n",
       "1           424614144\n",
       "2           238028583\n",
       "3           162002168\n",
       "4           666244484\n",
       "5           113649759\n",
       "6           188416784\n",
       "7           557371587\n",
       "8            14737388\n",
       "9            54340046\n",
       "10          115844465\n",
       "11          106751618\n",
       "12          305449446\n",
       "13           71919481\n",
       "14          259454692\n",
       "15          118960211\n",
       "16          238346955\n",
       "17          393281453\n",
       "18           60721461\n",
       "19           73700617\n",
       "20          296570442"
      ]
     },
     "execution_count": 22,
     "metadata": {},
     "output_type": "execute_result"
    }
   ],
   "source": [
    "occupation_pivot = data.pivot_table(index='occupation', values=\"purchase\", aggfunc=np.sum)\n",
    "occupation_pivot"
   ]
  },
  {
   "cell_type": "code",
   "execution_count": 23,
   "metadata": {},
   "outputs": [
    {
     "data": {
      "image/png": "[encoded data removed]",
      "text/plain": [
       "<Figure size 864x504 with 1 Axes>"
      ]
     },
     "metadata": {
      "needs_background": "light"
     },
     "output_type": "display_data"
    }
   ],
   "source": [
    "occupation_pivot.plot(kind='bar', color='blue',figsize=(12,7))\n",
    "plt.xlabel(\"Occupation\")\n",
    "plt.ylabel(\"Purchase\")\n",
    "plt.title(\"Occupation and Purchase Analysis\")\n",
    "plt.xticks(rotation=0)\n",
    "plt.show()"
   ]
  },
  {
   "cell_type": "markdown",
   "metadata": {},
   "source": [
    "### Perform data wrangling / pre-processing (Module 8). a. E.g., missing data, normalization, discretization, etc."
   ]
  },
  {
   "cell_type": "code",
   "execution_count": 24,
   "metadata": {},
   "outputs": [
    {
     "data": {
      "text/html": [
       "<div>\n",
       "<style scoped>\n",
       "    .dataframe tbody tr th:only-of-type {\n",
       "        vertical-align: middle;\n",
       "    }\n",
       "\n",
       "    .dataframe tbody tr th {\n",
       "        vertical-align: top;\n",
       "    }\n",
       "\n",
       "    .dataframe thead th {\n",
       "        text-align: right;\n",
       "    }\n",
       "</style>\n",
       "<table border=\"1\" class=\"dataframe\">\n",
       "  <thead>\n",
       "    <tr style=\"text-align: right;\">\n",
       "      <th></th>\n",
       "      <th>user_id</th>\n",
       "      <th>product_id</th>\n",
       "      <th>gender</th>\n",
       "      <th>age</th>\n",
       "      <th>occupation</th>\n",
       "      <th>city_category</th>\n",
       "      <th>stay_in_current_city_years</th>\n",
       "      <th>marital_status</th>\n",
       "      <th>product_category_1</th>\n",
       "      <th>product_category_2</th>\n",
       "      <th>product_category_3</th>\n",
       "      <th>purchase</th>\n",
       "    </tr>\n",
       "  </thead>\n",
       "  <tbody>\n",
       "    <tr>\n",
       "      <th>0</th>\n",
       "      <td>1000001</td>\n",
       "      <td>P00069042</td>\n",
       "      <td>F</td>\n",
       "      <td>0-17</td>\n",
       "      <td>10</td>\n",
       "      <td>A</td>\n",
       "      <td>2</td>\n",
       "      <td>0</td>\n",
       "      <td>3</td>\n",
       "      <td>nan</td>\n",
       "      <td>nan</td>\n",
       "      <td>8370</td>\n",
       "    </tr>\n",
       "    <tr>\n",
       "      <th>1</th>\n",
       "      <td>1000001</td>\n",
       "      <td>P00248942</td>\n",
       "      <td>F</td>\n",
       "      <td>0-17</td>\n",
       "      <td>10</td>\n",
       "      <td>A</td>\n",
       "      <td>2</td>\n",
       "      <td>0</td>\n",
       "      <td>1</td>\n",
       "      <td>6.00</td>\n",
       "      <td>14.00</td>\n",
       "      <td>15200</td>\n",
       "    </tr>\n",
       "    <tr>\n",
       "      <th>2</th>\n",
       "      <td>1000001</td>\n",
       "      <td>P00087842</td>\n",
       "      <td>F</td>\n",
       "      <td>0-17</td>\n",
       "      <td>10</td>\n",
       "      <td>A</td>\n",
       "      <td>2</td>\n",
       "      <td>0</td>\n",
       "      <td>12</td>\n",
       "      <td>nan</td>\n",
       "      <td>nan</td>\n",
       "      <td>1422</td>\n",
       "    </tr>\n",
       "    <tr>\n",
       "      <th>3</th>\n",
       "      <td>1000001</td>\n",
       "      <td>P00085442</td>\n",
       "      <td>F</td>\n",
       "      <td>0-17</td>\n",
       "      <td>10</td>\n",
       "      <td>A</td>\n",
       "      <td>2</td>\n",
       "      <td>0</td>\n",
       "      <td>12</td>\n",
       "      <td>14.00</td>\n",
       "      <td>nan</td>\n",
       "      <td>1057</td>\n",
       "    </tr>\n",
       "    <tr>\n",
       "      <th>4</th>\n",
       "      <td>1000002</td>\n",
       "      <td>P00285442</td>\n",
       "      <td>M</td>\n",
       "      <td>55+</td>\n",
       "      <td>16</td>\n",
       "      <td>C</td>\n",
       "      <td>4+</td>\n",
       "      <td>0</td>\n",
       "      <td>8</td>\n",
       "      <td>nan</td>\n",
       "      <td>nan</td>\n",
       "      <td>7969</td>\n",
       "    </tr>\n",
       "  </tbody>\n",
       "</table>\n",
       "</div>"
      ],
      "text/plain": [
       "   user_id product_id gender   age  occupation city_category  \\\n",
       "0  1000001  P00069042      F  0-17          10             A   \n",
       "1  1000001  P00248942      F  0-17          10             A   \n",
       "2  1000001  P00087842      F  0-17          10             A   \n",
       "3  1000001  P00085442      F  0-17          10             A   \n",
       "4  1000002  P00285442      M   55+          16             C   \n",
       "\n",
       "  stay_in_current_city_years  marital_status  product_category_1  \\\n",
       "0                          2               0                   3   \n",
       "1                          2               0                   1   \n",
       "2                          2               0                  12   \n",
       "3                          2               0                  12   \n",
       "4                         4+               0                   8   \n",
       "\n",
       "   product_category_2  product_category_3  purchase  \n",
       "0                 nan                 nan      8370  \n",
       "1                6.00               14.00     15200  \n",
       "2                 nan                 nan      1422  \n",
       "3               14.00                 nan      1057  \n",
       "4                 nan                 nan      7969  "
      ]
     },
     "metadata": {},
     "output_type": "display_data"
    },
    {
     "data": {
      "text/html": [
       "<div>\n",
       "<style scoped>\n",
       "    .dataframe tbody tr th:only-of-type {\n",
       "        vertical-align: middle;\n",
       "    }\n",
       "\n",
       "    .dataframe tbody tr th {\n",
       "        vertical-align: top;\n",
       "    }\n",
       "\n",
       "    .dataframe thead th {\n",
       "        text-align: right;\n",
       "    }\n",
       "</style>\n",
       "<table border=\"1\" class=\"dataframe\">\n",
       "  <thead>\n",
       "    <tr style=\"text-align: right;\">\n",
       "      <th></th>\n",
       "      <th>user_id</th>\n",
       "      <th>product_id</th>\n",
       "      <th>gender</th>\n",
       "      <th>age</th>\n",
       "      <th>occupation</th>\n",
       "      <th>city_category</th>\n",
       "      <th>stay_in_current_city_years</th>\n",
       "      <th>marital_status</th>\n",
       "      <th>product_category_1</th>\n",
       "      <th>product_category_2</th>\n",
       "      <th>product_category_3</th>\n",
       "    </tr>\n",
       "  </thead>\n",
       "  <tbody>\n",
       "    <tr>\n",
       "      <th>0</th>\n",
       "      <td>1000004</td>\n",
       "      <td>P00128942</td>\n",
       "      <td>M</td>\n",
       "      <td>46-50</td>\n",
       "      <td>7</td>\n",
       "      <td>B</td>\n",
       "      <td>2</td>\n",
       "      <td>1</td>\n",
       "      <td>1</td>\n",
       "      <td>11.00</td>\n",
       "      <td>nan</td>\n",
       "    </tr>\n",
       "    <tr>\n",
       "      <th>1</th>\n",
       "      <td>1000009</td>\n",
       "      <td>P00113442</td>\n",
       "      <td>M</td>\n",
       "      <td>26-35</td>\n",
       "      <td>17</td>\n",
       "      <td>C</td>\n",
       "      <td>0</td>\n",
       "      <td>0</td>\n",
       "      <td>3</td>\n",
       "      <td>5.00</td>\n",
       "      <td>nan</td>\n",
       "    </tr>\n",
       "    <tr>\n",
       "      <th>2</th>\n",
       "      <td>1000010</td>\n",
       "      <td>P00288442</td>\n",
       "      <td>F</td>\n",
       "      <td>36-45</td>\n",
       "      <td>1</td>\n",
       "      <td>B</td>\n",
       "      <td>4+</td>\n",
       "      <td>1</td>\n",
       "      <td>5</td>\n",
       "      <td>14.00</td>\n",
       "      <td>nan</td>\n",
       "    </tr>\n",
       "    <tr>\n",
       "      <th>3</th>\n",
       "      <td>1000010</td>\n",
       "      <td>P00145342</td>\n",
       "      <td>F</td>\n",
       "      <td>36-45</td>\n",
       "      <td>1</td>\n",
       "      <td>B</td>\n",
       "      <td>4+</td>\n",
       "      <td>1</td>\n",
       "      <td>4</td>\n",
       "      <td>9.00</td>\n",
       "      <td>nan</td>\n",
       "    </tr>\n",
       "    <tr>\n",
       "      <th>4</th>\n",
       "      <td>1000011</td>\n",
       "      <td>P00053842</td>\n",
       "      <td>F</td>\n",
       "      <td>26-35</td>\n",
       "      <td>1</td>\n",
       "      <td>C</td>\n",
       "      <td>1</td>\n",
       "      <td>0</td>\n",
       "      <td>4</td>\n",
       "      <td>5.00</td>\n",
       "      <td>12.00</td>\n",
       "    </tr>\n",
       "  </tbody>\n",
       "</table>\n",
       "</div>"
      ],
      "text/plain": [
       "   user_id product_id gender    age  occupation city_category  \\\n",
       "0  1000004  P00128942      M  46-50           7             B   \n",
       "1  1000009  P00113442      M  26-35          17             C   \n",
       "2  1000010  P00288442      F  36-45           1             B   \n",
       "3  1000010  P00145342      F  36-45           1             B   \n",
       "4  1000011  P00053842      F  26-35           1             C   \n",
       "\n",
       "  stay_in_current_city_years  marital_status  product_category_1  \\\n",
       "0                          2               1                   1   \n",
       "1                          0               0                   3   \n",
       "2                         4+               1                   5   \n",
       "3                         4+               1                   4   \n",
       "4                          1               0                   4   \n",
       "\n",
       "   product_category_2  product_category_3  \n",
       "0               11.00                 nan  \n",
       "1                5.00                 nan  \n",
       "2               14.00                 nan  \n",
       "3                9.00                 nan  \n",
       "4                5.00               12.00  "
      ]
     },
     "metadata": {},
     "output_type": "display_data"
    }
   ],
   "source": [
    "train_data = pd.read_csv(\"CustPurchTrain.csv\")\n",
    "test_data = pd.read_csv(\"CustPurchTest.csv\")\n",
    "\n",
    "train_data.columns = [x.lower() for x in train_data.columns]\n",
    "test_data.columns = [x.lower() for x in test_data.columns]\n",
    "\n",
    "display(train_data.head())\n",
    "display(test_data.head())"
   ]
  },
  {
   "cell_type": "code",
   "execution_count": 25,
   "metadata": {},
   "outputs": [
    {
     "name": "stdout",
     "output_type": "stream",
     "text": [
      "Null values in train data\n"
     ]
    },
    {
     "data": {
      "text/plain": [
       "user_id                            0\n",
       "product_id                         0\n",
       "gender                             0\n",
       "age                                0\n",
       "occupation                         0\n",
       "city_category                      0\n",
       "stay_in_current_city_years         0\n",
       "marital_status                     0\n",
       "product_category_1                 0\n",
       "product_category_2            173638\n",
       "product_category_3            383247\n",
       "purchase                           0\n",
       "dtype: int64"
      ]
     },
     "metadata": {},
     "output_type": "display_data"
    },
    {
     "data": {
      "text/plain": [
       "user_id                      0.00\n",
       "product_id                   0.00\n",
       "gender                       0.00\n",
       "age                          0.00\n",
       "occupation                   0.00\n",
       "city_category                0.00\n",
       "stay_in_current_city_years   0.00\n",
       "marital_status               0.00\n",
       "product_category_1           0.00\n",
       "product_category_2           0.32\n",
       "product_category_3           0.70\n",
       "purchase                     0.00\n",
       "dtype: float64"
      ]
     },
     "metadata": {},
     "output_type": "display_data"
    },
    {
     "name": "stdout",
     "output_type": "stream",
     "text": [
      "----------------------------------------------------------------------------------------------------\n",
      "Null values in test data\n"
     ]
    },
    {
     "data": {
      "text/plain": [
       "user_id                            0\n",
       "product_id                         0\n",
       "gender                             0\n",
       "age                                0\n",
       "occupation                         0\n",
       "city_category                      0\n",
       "stay_in_current_city_years         0\n",
       "marital_status                     0\n",
       "product_category_1                 0\n",
       "product_category_2             72344\n",
       "product_category_3            162562\n",
       "dtype: int64"
      ]
     },
     "metadata": {},
     "output_type": "display_data"
    },
    {
     "data": {
      "text/plain": [
       "user_id                      0.00\n",
       "product_id                   0.00\n",
       "gender                       0.00\n",
       "age                          0.00\n",
       "occupation                   0.00\n",
       "city_category                0.00\n",
       "stay_in_current_city_years   0.00\n",
       "marital_status               0.00\n",
       "product_category_1           0.00\n",
       "product_category_2           0.31\n",
       "product_category_3           0.70\n",
       "dtype: float64"
      ]
     },
     "metadata": {},
     "output_type": "display_data"
    }
   ],
   "source": [
    "print(\"Null values in train data\")\n",
    "display(train_data.isnull().sum())\n",
    "display(train_data.isnull().mean())\n",
    "print(\"-\"*100)\n",
    "print(\"Null values in test data\")\n",
    "display(test_data.isnull().sum())\n",
    "display(test_data.isnull().mean())"
   ]
  },
  {
   "cell_type": "markdown",
   "metadata": {},
   "source": [
    "#### <font color=\"green\">Observations:\n",
    "\n",
    "* Product_category_2 is missing around 31% in both the train and test set.\n",
    "* Product_category_3 is missing around 70% in both the train and test set.\n",
    "\n",
    "#### <font color=\"green\">Steps:\n",
    "* Impute missing values by -1 in both training and test sets."
   ]
  },
  {
   "cell_type": "code",
   "execution_count": 26,
   "metadata": {},
   "outputs": [],
   "source": [
    "train_data[\"product_category_2\"] = train_data[\"product_category_2\"].fillna(-1)\n",
    "test_data[\"product_category_2\"] = test_data[\"product_category_2\"].fillna(-1)\n",
    "\n",
    "train_data[\"product_category_3\"] = train_data[\"product_category_3\"].fillna(-1)\n",
    "test_data[\"product_category_3\"] = test_data[\"product_category_3\"].fillna(-1)"
   ]
  },
  {
   "cell_type": "code",
   "execution_count": 27,
   "metadata": {},
   "outputs": [
    {
     "name": "stdout",
     "output_type": "stream",
     "text": [
      "Null values in train data after removal\n"
     ]
    },
    {
     "data": {
      "text/plain": [
       "user_id                       0\n",
       "product_id                    0\n",
       "gender                        0\n",
       "age                           0\n",
       "occupation                    0\n",
       "city_category                 0\n",
       "stay_in_current_city_years    0\n",
       "marital_status                0\n",
       "product_category_1            0\n",
       "product_category_2            0\n",
       "product_category_3            0\n",
       "purchase                      0\n",
       "dtype: int64"
      ]
     },
     "metadata": {},
     "output_type": "display_data"
    },
    {
     "data": {
      "text/plain": [
       "user_id                      0.00\n",
       "product_id                   0.00\n",
       "gender                       0.00\n",
       "age                          0.00\n",
       "occupation                   0.00\n",
       "city_category                0.00\n",
       "stay_in_current_city_years   0.00\n",
       "marital_status               0.00\n",
       "product_category_1           0.00\n",
       "product_category_2           0.00\n",
       "product_category_3           0.00\n",
       "purchase                     0.00\n",
       "dtype: float64"
      ]
     },
     "metadata": {},
     "output_type": "display_data"
    },
    {
     "name": "stdout",
     "output_type": "stream",
     "text": [
      "----------------------------------------------------------------------------------------------------\n",
      "Null values in test data after removal\n"
     ]
    },
    {
     "data": {
      "text/plain": [
       "user_id                       0\n",
       "product_id                    0\n",
       "gender                        0\n",
       "age                           0\n",
       "occupation                    0\n",
       "city_category                 0\n",
       "stay_in_current_city_years    0\n",
       "marital_status                0\n",
       "product_category_1            0\n",
       "product_category_2            0\n",
       "product_category_3            0\n",
       "dtype: int64"
      ]
     },
     "metadata": {},
     "output_type": "display_data"
    },
    {
     "data": {
      "text/plain": [
       "user_id                      0.00\n",
       "product_id                   0.00\n",
       "gender                       0.00\n",
       "age                          0.00\n",
       "occupation                   0.00\n",
       "city_category                0.00\n",
       "stay_in_current_city_years   0.00\n",
       "marital_status               0.00\n",
       "product_category_1           0.00\n",
       "product_category_2           0.00\n",
       "product_category_3           0.00\n",
       "dtype: float64"
      ]
     },
     "metadata": {},
     "output_type": "display_data"
    }
   ],
   "source": [
    "print(\"Null values in train data after removal\")\n",
    "display(train_data.isnull().sum())\n",
    "display(train_data.isnull().mean())\n",
    "print(\"-\"*100)\n",
    "print(\"Null values in test data after removal\")\n",
    "display(test_data.isnull().sum())\n",
    "display(test_data.isnull().mean())"
   ]
  },
  {
   "cell_type": "markdown",
   "metadata": {},
   "source": [
    "### Applying  encoding techniques"
   ]
  },
  {
   "cell_type": "code",
   "execution_count": 28,
   "metadata": {},
   "outputs": [
    {
     "name": "stdout",
     "output_type": "stream",
     "text": [
      "In training data\n"
     ]
    },
    {
     "data": {
      "text/plain": [
       "M    414259\n",
       "F    135809\n",
       "Name: gender, dtype: int64"
      ]
     },
     "metadata": {},
     "output_type": "display_data"
    },
    {
     "name": "stdout",
     "output_type": "stream",
     "text": [
      "In test data\n"
     ]
    },
    {
     "data": {
      "text/plain": [
       "M    175772\n",
       "F     57827\n",
       "Name: gender, dtype: int64"
      ]
     },
     "metadata": {},
     "output_type": "display_data"
    }
   ],
   "source": [
    "print(\"In training data\")\n",
    "display(train_data[\"gender\"].value_counts())\n",
    "print(\"In test data\")\n",
    "display(test_data[\"gender\"].value_counts())"
   ]
  },
  {
   "cell_type": "code",
   "execution_count": 29,
   "metadata": {},
   "outputs": [
    {
     "name": "stdout",
     "output_type": "stream",
     "text": [
      "In training data after binarisation\n"
     ]
    },
    {
     "data": {
      "text/plain": [
       "1    414259\n",
       "0    135809\n",
       "Name: gender, dtype: int64"
      ]
     },
     "metadata": {},
     "output_type": "display_data"
    },
    {
     "name": "stdout",
     "output_type": "stream",
     "text": [
      "In test data after binarisation\n"
     ]
    },
    {
     "data": {
      "text/plain": [
       "1    175772\n",
       "0     57827\n",
       "Name: gender, dtype: int64"
      ]
     },
     "metadata": {},
     "output_type": "display_data"
    }
   ],
   "source": [
    "# converting gender as binary variable.\n",
    "gender_dict = {\n",
    "    \"F\" : 0,\n",
    "    \"M\" : 1\n",
    "}\n",
    "\n",
    "train_data[\"gender\"] = train_data[\"gender\"].map(gender_dict)\n",
    "test_data[\"gender\"] = test_data[\"gender\"].map(gender_dict)\n",
    "\n",
    "print(\"In training data after binarisation\")\n",
    "display(train_data[\"gender\"].value_counts())\n",
    "print(\"In test data after binarisation\")\n",
    "display(test_data[\"gender\"].value_counts())"
   ]
  },
  {
   "cell_type": "code",
   "execution_count": 30,
   "metadata": {},
   "outputs": [
    {
     "name": "stdout",
     "output_type": "stream",
     "text": [
      "In training data\n"
     ]
    },
    {
     "data": {
      "text/plain": [
       "26-35    219587\n",
       "36-45    110013\n",
       "18-25     99660\n",
       "46-50     45701\n",
       "51-55     38501\n",
       "55+       21504\n",
       "0-17      15102\n",
       "Name: age, dtype: int64"
      ]
     },
     "metadata": {},
     "output_type": "display_data"
    },
    {
     "name": "stdout",
     "output_type": "stream",
     "text": [
      "In test data\n"
     ]
    },
    {
     "data": {
      "text/plain": [
       "26-35    93428\n",
       "36-45    46711\n",
       "18-25    42293\n",
       "46-50    19577\n",
       "51-55    16283\n",
       "55+       9075\n",
       "0-17      6232\n",
       "Name: age, dtype: int64"
      ]
     },
     "metadata": {},
     "output_type": "display_data"
    }
   ],
   "source": [
    "print(\"In training data\")\n",
    "display(train_data[\"age\"].value_counts())\n",
    "print(\"In test data\")\n",
    "display(test_data[\"age\"].value_counts())"
   ]
  },
  {
   "cell_type": "code",
   "execution_count": 31,
   "metadata": {},
   "outputs": [],
   "source": [
    "from sklearn.preprocessing import LabelEncoder\n",
    "\n",
    "# let's label encode the age category\n",
    "\n",
    "label_encoder = LabelEncoder()\n",
    "label_encoder.fit(train_data[\"age\"])\n",
    "\n",
    "train_data[\"age\"] = label_encoder.transform(train_data[\"age\"])\n",
    "test_data[\"age\"] = label_encoder.transform(test_data[\"age\"])"
   ]
  },
  {
   "cell_type": "code",
   "execution_count": 32,
   "metadata": {},
   "outputs": [
    {
     "name": "stdout",
     "output_type": "stream",
     "text": [
      "In training data after encoding\n"
     ]
    },
    {
     "data": {
      "text/plain": [
       "2    219587\n",
       "3    110013\n",
       "1     99660\n",
       "4     45701\n",
       "5     38501\n",
       "6     21504\n",
       "0     15102\n",
       "Name: age, dtype: int64"
      ]
     },
     "metadata": {},
     "output_type": "display_data"
    },
    {
     "name": "stdout",
     "output_type": "stream",
     "text": [
      "In test data after encoding\n"
     ]
    },
    {
     "data": {
      "text/plain": [
       "2    93428\n",
       "3    46711\n",
       "1    42293\n",
       "4    19577\n",
       "5    16283\n",
       "6     9075\n",
       "0     6232\n",
       "Name: age, dtype: int64"
      ]
     },
     "metadata": {},
     "output_type": "display_data"
    }
   ],
   "source": [
    "print(\"In training data after encoding\")\n",
    "display(train_data[\"age\"].value_counts())\n",
    "print(\"In test data after encoding\")\n",
    "display(test_data[\"age\"].value_counts())"
   ]
  },
  {
   "cell_type": "code",
   "execution_count": 33,
   "metadata": {},
   "outputs": [],
   "source": [
    "label_encoder = LabelEncoder()\n",
    "label_encoder.fit(train_data[\"city_category\"])\n",
    "\n",
    "train_data[\"city_category\"] = label_encoder.transform(train_data[\"city_category\"])\n",
    "test_data[\"city_category\"] = label_encoder.transform(test_data[\"city_category\"])"
   ]
  },
  {
   "cell_type": "code",
   "execution_count": 50,
   "metadata": {},
   "outputs": [],
   "source": [
    "label_encoder = LabelEncoder()\n",
    "label_encoder.fit(pd.concat([train_data[\"product_id\"].astype(str), test_data[\"product_id\"].astype(str)], axis=0, sort=False))\n",
    "\n",
    "train_data[\"product_id\"] = label_encoder.transform(train_data[\"product_id\"].astype(str))\n",
    "test_data[\"product_id\"] = label_encoder.transform(test_data[\"product_id\"].astype(str))"
   ]
  },
  {
   "cell_type": "code",
   "execution_count": null,
   "metadata": {},
   "outputs": [],
   "source": [
    "label_encoder = LabelEncoder()\n",
    "label_encoder.fit(train_data[\"product_id\"])\n",
    "\n",
    "train_data[\"stay_in_current_city_years\"] = label_encoder.transform(train_data[\"stay_in_current_city_years\"])\n",
    "test_data[\"stay_in_current_city_years\"] = label_encoder.transform(test_data[\"stay_in_current_city_years\"])"
   ]
  },
  {
   "cell_type": "code",
   "execution_count": 51,
   "metadata": {},
   "outputs": [
    {
     "name": "stdout",
     "output_type": "stream",
     "text": [
      "After feature engineering..\n"
     ]
    },
    {
     "data": {
      "text/html": [
       "<div>\n",
       "<style scoped>\n",
       "    .dataframe tbody tr th:only-of-type {\n",
       "        vertical-align: middle;\n",
       "    }\n",
       "\n",
       "    .dataframe tbody tr th {\n",
       "        vertical-align: top;\n",
       "    }\n",
       "\n",
       "    .dataframe thead th {\n",
       "        text-align: right;\n",
       "    }\n",
       "</style>\n",
       "<table border=\"1\" class=\"dataframe\">\n",
       "  <thead>\n",
       "    <tr style=\"text-align: right;\">\n",
       "      <th></th>\n",
       "      <th>user_id</th>\n",
       "      <th>product_id</th>\n",
       "      <th>gender</th>\n",
       "      <th>age</th>\n",
       "      <th>occupation</th>\n",
       "      <th>city_category</th>\n",
       "      <th>stay_in_current_city_years</th>\n",
       "      <th>marital_status</th>\n",
       "      <th>product_category_1</th>\n",
       "      <th>product_category_2</th>\n",
       "      <th>product_category_3</th>\n",
       "      <th>purchase</th>\n",
       "    </tr>\n",
       "  </thead>\n",
       "  <tbody>\n",
       "    <tr>\n",
       "      <th>0</th>\n",
       "      <td>1000001</td>\n",
       "      <td>3268</td>\n",
       "      <td>0</td>\n",
       "      <td>0</td>\n",
       "      <td>10</td>\n",
       "      <td>0</td>\n",
       "      <td>2</td>\n",
       "      <td>0</td>\n",
       "      <td>3</td>\n",
       "      <td>-1.00</td>\n",
       "      <td>-1.00</td>\n",
       "      <td>8370</td>\n",
       "    </tr>\n",
       "    <tr>\n",
       "      <th>1</th>\n",
       "      <td>1000001</td>\n",
       "      <td>1531</td>\n",
       "      <td>0</td>\n",
       "      <td>0</td>\n",
       "      <td>10</td>\n",
       "      <td>0</td>\n",
       "      <td>2</td>\n",
       "      <td>0</td>\n",
       "      <td>1</td>\n",
       "      <td>6.00</td>\n",
       "      <td>14.00</td>\n",
       "      <td>15200</td>\n",
       "    </tr>\n",
       "    <tr>\n",
       "      <th>2</th>\n",
       "      <td>1000001</td>\n",
       "      <td>3468</td>\n",
       "      <td>0</td>\n",
       "      <td>0</td>\n",
       "      <td>10</td>\n",
       "      <td>0</td>\n",
       "      <td>2</td>\n",
       "      <td>0</td>\n",
       "      <td>12</td>\n",
       "      <td>-1.00</td>\n",
       "      <td>-1.00</td>\n",
       "      <td>1422</td>\n",
       "    </tr>\n",
       "    <tr>\n",
       "      <th>3</th>\n",
       "      <td>1000001</td>\n",
       "      <td>3441</td>\n",
       "      <td>0</td>\n",
       "      <td>0</td>\n",
       "      <td>10</td>\n",
       "      <td>0</td>\n",
       "      <td>2</td>\n",
       "      <td>0</td>\n",
       "      <td>12</td>\n",
       "      <td>14.00</td>\n",
       "      <td>-1.00</td>\n",
       "      <td>1057</td>\n",
       "    </tr>\n",
       "    <tr>\n",
       "      <th>4</th>\n",
       "      <td>1000002</td>\n",
       "      <td>1929</td>\n",
       "      <td>1</td>\n",
       "      <td>6</td>\n",
       "      <td>16</td>\n",
       "      <td>2</td>\n",
       "      <td>4</td>\n",
       "      <td>0</td>\n",
       "      <td>8</td>\n",
       "      <td>-1.00</td>\n",
       "      <td>-1.00</td>\n",
       "      <td>7969</td>\n",
       "    </tr>\n",
       "  </tbody>\n",
       "</table>\n",
       "</div>"
      ],
      "text/plain": [
       "   user_id  product_id  gender  age  occupation  city_category  \\\n",
       "0  1000001        3268       0    0          10              0   \n",
       "1  1000001        1531       0    0          10              0   \n",
       "2  1000001        3468       0    0          10              0   \n",
       "3  1000001        3441       0    0          10              0   \n",
       "4  1000002        1929       1    6          16              2   \n",
       "\n",
       "   stay_in_current_city_years  marital_status  product_category_1  \\\n",
       "0                           2               0                   3   \n",
       "1                           2               0                   1   \n",
       "2                           2               0                  12   \n",
       "3                           2               0                  12   \n",
       "4                           4               0                   8   \n",
       "\n",
       "   product_category_2  product_category_3  purchase  \n",
       "0               -1.00               -1.00      8370  \n",
       "1                6.00               14.00     15200  \n",
       "2               -1.00               -1.00      1422  \n",
       "3               14.00               -1.00      1057  \n",
       "4               -1.00               -1.00      7969  "
      ]
     },
     "metadata": {},
     "output_type": "display_data"
    },
    {
     "data": {
      "text/html": [
       "<div>\n",
       "<style scoped>\n",
       "    .dataframe tbody tr th:only-of-type {\n",
       "        vertical-align: middle;\n",
       "    }\n",
       "\n",
       "    .dataframe tbody tr th {\n",
       "        vertical-align: top;\n",
       "    }\n",
       "\n",
       "    .dataframe thead th {\n",
       "        text-align: right;\n",
       "    }\n",
       "</style>\n",
       "<table border=\"1\" class=\"dataframe\">\n",
       "  <thead>\n",
       "    <tr style=\"text-align: right;\">\n",
       "      <th></th>\n",
       "      <th>user_id</th>\n",
       "      <th>product_id</th>\n",
       "      <th>gender</th>\n",
       "      <th>age</th>\n",
       "      <th>occupation</th>\n",
       "      <th>city_category</th>\n",
       "      <th>stay_in_current_city_years</th>\n",
       "      <th>marital_status</th>\n",
       "      <th>product_category_1</th>\n",
       "      <th>product_category_2</th>\n",
       "      <th>product_category_3</th>\n",
       "    </tr>\n",
       "  </thead>\n",
       "  <tbody>\n",
       "    <tr>\n",
       "      <th>0</th>\n",
       "      <td>1000004</td>\n",
       "      <td>4775</td>\n",
       "      <td>1</td>\n",
       "      <td>4</td>\n",
       "      <td>7</td>\n",
       "      <td>1</td>\n",
       "      <td>2</td>\n",
       "      <td>1</td>\n",
       "      <td>1</td>\n",
       "      <td>11.00</td>\n",
       "      <td>-1.00</td>\n",
       "    </tr>\n",
       "    <tr>\n",
       "      <th>1</th>\n",
       "      <td>1000009</td>\n",
       "      <td>4625</td>\n",
       "      <td>1</td>\n",
       "      <td>2</td>\n",
       "      <td>17</td>\n",
       "      <td>2</td>\n",
       "      <td>0</td>\n",
       "      <td>0</td>\n",
       "      <td>3</td>\n",
       "      <td>5.00</td>\n",
       "      <td>-1.00</td>\n",
       "    </tr>\n",
       "    <tr>\n",
       "      <th>2</th>\n",
       "      <td>1000010</td>\n",
       "      <td>6303</td>\n",
       "      <td>0</td>\n",
       "      <td>3</td>\n",
       "      <td>1</td>\n",
       "      <td>1</td>\n",
       "      <td>4</td>\n",
       "      <td>1</td>\n",
       "      <td>5</td>\n",
       "      <td>14.00</td>\n",
       "      <td>-1.00</td>\n",
       "    </tr>\n",
       "    <tr>\n",
       "      <th>3</th>\n",
       "      <td>1000010</td>\n",
       "      <td>4930</td>\n",
       "      <td>0</td>\n",
       "      <td>3</td>\n",
       "      <td>1</td>\n",
       "      <td>1</td>\n",
       "      <td>4</td>\n",
       "      <td>1</td>\n",
       "      <td>4</td>\n",
       "      <td>9.00</td>\n",
       "      <td>-1.00</td>\n",
       "    </tr>\n",
       "    <tr>\n",
       "      <th>4</th>\n",
       "      <td>1000011</td>\n",
       "      <td>4150</td>\n",
       "      <td>0</td>\n",
       "      <td>2</td>\n",
       "      <td>1</td>\n",
       "      <td>2</td>\n",
       "      <td>1</td>\n",
       "      <td>0</td>\n",
       "      <td>4</td>\n",
       "      <td>5.00</td>\n",
       "      <td>12.00</td>\n",
       "    </tr>\n",
       "  </tbody>\n",
       "</table>\n",
       "</div>"
      ],
      "text/plain": [
       "   user_id  product_id  gender  age  occupation  city_category  \\\n",
       "0  1000004        4775       1    4           7              1   \n",
       "1  1000009        4625       1    2          17              2   \n",
       "2  1000010        6303       0    3           1              1   \n",
       "3  1000010        4930       0    3           1              1   \n",
       "4  1000011        4150       0    2           1              2   \n",
       "\n",
       "   stay_in_current_city_years  marital_status  product_category_1  \\\n",
       "0                           2               1                   1   \n",
       "1                           0               0                   3   \n",
       "2                           4               1                   5   \n",
       "3                           4               1                   4   \n",
       "4                           1               0                   4   \n",
       "\n",
       "   product_category_2  product_category_3  \n",
       "0               11.00               -1.00  \n",
       "1                5.00               -1.00  \n",
       "2               14.00               -1.00  \n",
       "3                9.00               -1.00  \n",
       "4                5.00               12.00  "
      ]
     },
     "metadata": {},
     "output_type": "display_data"
    }
   ],
   "source": [
    "print(\"After feature engineering..\")\n",
    "display(train_data.head())\n",
    "display(test_data.head())"
   ]
  },
  {
   "cell_type": "markdown",
   "metadata": {},
   "source": [
    "### Apply any two feature selection engineering techniques"
   ]
  },
  {
   "cell_type": "code",
   "execution_count": 52,
   "metadata": {},
   "outputs": [
    {
     "data": {
      "image/png": "[encoded data removed]",
      "text/plain": [
       "<Figure size 864x720 with 2 Axes>"
      ]
     },
     "metadata": {
      "needs_background": "light"
     },
     "output_type": "display_data"
    }
   ],
   "source": [
    "#1.Filter Method : Pearson Correlation\n",
    "plt.figure(figsize=(12,10))\n",
    "cor = train_data.corr()\n",
    "ax = sns.heatmap(cor, annot=True, cmap=plt.cm.Reds)\n",
    "bottom, top = ax.get_ylim()\n",
    "ax.set_ylim(bottom + 0.5, top - 0.5)\n",
    "plt.show()"
   ]
  },
  {
   "cell_type": "code",
   "execution_count": 53,
   "metadata": {},
   "outputs": [
    {
     "data": {
      "text/plain": [
       "purchase   1.00\n",
       "Name: purchase, dtype: float64"
      ]
     },
     "execution_count": 53,
     "metadata": {},
     "output_type": "execute_result"
    }
   ],
   "source": [
    "#Correlation with output variable\n",
    "cor_target = abs(cor[\"purchase\"])\n",
    "#Selecting highly correlated features\n",
    "relevant_features = cor_target[cor_target>0.5]\n",
    "relevant_features"
   ]
  },
  {
   "cell_type": "markdown",
   "metadata": {},
   "source": [
    "#### <font color=\"green\">Observations:\n",
    "- We can observe the trend that only product category 1 and product category 2 are negatively correlated to purchase.\n",
    "- All the other independent features are neither strongly correlated to each other or the target. \n",
    "- There is no feature which is highly correlated to target variable or to other features.\n"
   ]
  },
  {
   "cell_type": "code",
   "execution_count": 54,
   "metadata": {},
   "outputs": [
    {
     "data": {
      "text/plain": [
       "const                        0.68\n",
       "user_id                      0.00\n",
       "product_id                   0.00\n",
       "gender                       0.00\n",
       "age                          0.00\n",
       "occupation                   0.00\n",
       "city_category                0.00\n",
       "stay_in_current_city_years   0.07\n",
       "marital_status               0.00\n",
       "product_category_1           0.00\n",
       "product_category_2           0.00\n",
       "product_category_3           0.00\n",
       "dtype: float64"
      ]
     },
     "execution_count": 54,
     "metadata": {},
     "output_type": "execute_result"
    }
   ],
   "source": [
    "#2.Wrapper Method : Backward Elimination\n",
    "import statsmodels.api as sm\n",
    "\n",
    "#Adding constant column of ones, mandatory for sm.OLS model\n",
    "X = train_data.drop(\"purchase\",1)       #Feature Matrix\n",
    "y = train_data[\"purchase\"]              #Target Variable\n",
    "\n",
    "\n",
    "\n",
    "X_1 = sm.tools.tools.add_constant(X)\n",
    "#Fitting sm.OLS model\n",
    "model = sm.OLS(y,X_1.astype(float)).fit()\n",
    "model.pvalues"
   ]
  },
  {
   "cell_type": "code",
   "execution_count": 57,
   "metadata": {},
   "outputs": [
    {
     "data": {
      "text/plain": [
       "['user_id',\n",
       " 'product_id',\n",
       " 'gender',\n",
       " 'age',\n",
       " 'occupation',\n",
       " 'city_category',\n",
       " 'marital_status',\n",
       " 'product_category_1',\n",
       " 'product_category_2',\n",
       " 'product_category_3']"
      ]
     },
     "execution_count": 57,
     "metadata": {},
     "output_type": "execute_result"
    }
   ],
   "source": [
    "#Backward Elimination\n",
    "#As we can see that the variable ‘stay_in_current_city_years’ has highest pvalue of 0.07 which is greater than 0.05.\n",
    "#Hence we will remove this feature and build the model once again. \n",
    "cols = list(X.columns)\n",
    "pmax = 1\n",
    "while (len(cols)>0):\n",
    "    p= []\n",
    "    X_1 = X[cols]\n",
    "    X_1 = sm.add_constant(X_1)\n",
    "    model = sm.OLS(y,X_1).fit()\n",
    "    p = pd.Series(model.pvalues.values[1:],index = cols)      \n",
    "    pmax = max(p)\n",
    "    feature_with_p_max = p.idxmax()\n",
    "    if(pmax>0.05):\n",
    "        cols.remove(feature_with_p_max)\n",
    "    else:\n",
    "        break\n",
    "        \n",
    "selected_features_BE = cols\n",
    "selected_features_BE"
   ]
  },
  {
   "cell_type": "markdown",
   "metadata": {},
   "source": [
    "#### <font color=\"green\">Observations :\n",
    "- As we can see that the variable ‘stay_in_current_city_years’ has highest pvalue of 0.07 which is greater than 0.05.\n",
    "- Hence we will remove this feature and build the model once again using a loop.\n",
    "- Selected features are displayed above    "
   ]
  },
  {
   "cell_type": "markdown",
   "metadata": {},
   "source": [
    "### Compare the two selected feature engineering techniques."
   ]
  },
  {
   "cell_type": "code",
   "execution_count": null,
   "metadata": {},
   "outputs": [],
   "source": []
  },
  {
   "cell_type": "markdown",
   "metadata": {},
   "source": [
    "### Provide a high-level description of Machine Learning models – Linear regression and Decision tree to predict"
   ]
  },
  {
   "cell_type": "code",
   "execution_count": 85,
   "metadata": {},
   "outputs": [],
   "source": [
    "#Define target and ID columns:\n",
    "target = 'purchase'\n",
    "IDcol = ['user_id','product_id']\n",
    "\n",
    "#for performing cross validations\n",
    "from sklearn.model_selection  import cross_val_score\n",
    "from sklearn import metrics\n",
    "\n",
    "#function to fit the model , perform cv and test metrics\n",
    "def modelfit(alg, dtrain, dtest, predictors, target, IDcol):\n",
    "    #Fit the algorithm on the data\n",
    "    alg.fit(dtrain[predictors], dtrain[target])\n",
    "        \n",
    "    #Predict training set:\n",
    "    dtrain_predictions = alg.predict(dtrain[predictors])\n",
    "    #Perform cross-validation:\n",
    "    cv_score = cross_val_score(alg, dtrain[predictors],(dtrain[target]) , cv=20, scoring='neg_mean_squared_error')\n",
    "    cv_score = np.sqrt(np.abs(cv_score))\n",
    "    \n",
    "    #Print model report:\n",
    "    print(\"\\nModel Report\")\n",
    "    print(\"\\nOn Train Data :\")\n",
    "    print(\"RMSE : %.4g\" % np.sqrt(metrics.mean_squared_error((dtrain[target]).values, dtrain_predictions)))\n",
    "    print(\"CV Score : Mean - %.4g | Std - %.4g | Min - %.4g | Max - %.4g\" % (np.mean(cv_score),np.std(cv_score),np.min(cv_score),np.max(cv_score)))\n",
    "    \n",
    "    #Predict on testing data\n",
    "    predictions = alg.predict(dtest[predictors]) \n",
    "    \n",
    "    #We can save the file for test values"
   ]
  },
  {
   "cell_type": "code",
   "execution_count": 115,
   "metadata": {},
   "outputs": [
    {
     "name": "stdout",
     "output_type": "stream",
     "text": [
      "\n",
      "Model Report\n",
      "\n",
      "On Train Data :\n",
      "RMSE : 4623\n",
      "CV Score : Mean - 4626 | Std - 33.48 | Min - 4556 | Max - 4682\n"
     ]
    }
   ],
   "source": [
    "# Linear Regression :\n",
    "from sklearn.linear_model import LinearRegression\n",
    "\n",
    "LR = LinearRegression(normalize=True)\n",
    "modelfit(LR, train_data, test_data, predictors, target, IDcol)"
   ]
  },
  {
   "cell_type": "code",
   "execution_count": 116,
   "metadata": {},
   "outputs": [
    {
     "name": "stdout",
     "output_type": "stream",
     "text": [
      "\n",
      "Model Report\n",
      "\n",
      "On Train Data :\n",
      "RMSE : 2900\n",
      "CV Score : Mean - 2940 | Std - 20.21 | Min - 2900 | Max - 2970\n"
     ]
    },
    {
     "data": {
      "text/plain": [
       "DecisionTreeRegressor(criterion='mse', max_depth=15, max_features=None,\n",
       "           max_leaf_nodes=None, min_impurity_decrease=0.0,\n",
       "           min_impurity_split=None, min_samples_leaf=100,\n",
       "           min_samples_split=2, min_weight_fraction_leaf=0.0,\n",
       "           presort=False, random_state=None, splitter='best')"
      ]
     },
     "execution_count": 116,
     "metadata": {},
     "output_type": "execute_result"
    }
   ],
   "source": [
    "#Decision Tree :\n",
    "predictors = train_data.columns.drop(['purchase','product_id','user_id'])\n",
    "from sklearn.tree import DecisionTreeRegressor\n",
    "DT = DecisionTreeRegressor(max_depth=15, min_samples_leaf=100)\n",
    "modelfit(DT, train_data, test_data, predictors, target, IDcol)\n",
    "\n",
    "DT"
   ]
  },
  {
   "cell_type": "markdown",
   "metadata": {},
   "source": [
    "### Plot top 5, 6, and 8 features."
   ]
  },
  {
   "cell_type": "code",
   "execution_count": 124,
   "metadata": {},
   "outputs": [
    {
     "data": {
      "text/plain": [
       "<Figure size 432x288 with 0 Axes>"
      ]
     },
     "metadata": {},
     "output_type": "display_data"
    },
    {
     "data": {
      "image/png": "[encoded data removed]",
      "text/plain": [
       "<Figure size 1440x1080 with 2 Axes>"
      ]
     },
     "metadata": {
      "needs_background": "light"
     },
     "output_type": "display_data"
    }
   ],
   "source": [
    "# get importance\n",
    "fig = plt.figure()\n",
    "plt.figure(figsize=(20,15))\n",
    "\n",
    "plt.subplot(2, 2, 1)\n",
    "coef1 = pd.Series(LR.coef_, predictors).sort_values()\n",
    "coef1.plot(kind='bar', title='Linear Regression Model Coefficients')\n",
    "\n",
    "plt.subplot(2, 2, 2)\n",
    "importance = DT.feature_importances_\n",
    "plt.bar(predictors , importance)\n",
    "plt.title('Decision Tree Feature Importance')\n",
    "plt.xticks(rotation='vertical')\n",
    "plt.show()"
   ]
  },
  {
   "cell_type": "markdown",
   "metadata": {},
   "source": [
    "### Compare the performance of the two classifiers – Logistic regression and Decision tree to predict.\n"
   ]
  },
  {
   "cell_type": "markdown",
   "metadata": {},
   "source": [
    "### Present the conclusions/results in the format shared"
   ]
  },
  {
   "cell_type": "code",
   "execution_count": null,
   "metadata": {},
   "outputs": [],
   "source": []
  }
 ],
 "metadata": {
  "kernelspec": {
   "display_name": "Python 3",
   "language": "python",
   "name": "python3"
  },
  "language_info": {
   "codemirror_mode": {
    "name": "ipython",
    "version": 3
   },
   "file_extension": ".py",
   "mimetype": "text/x-python",
   "name": "python",
   "nbconvert_exporter": "python",
   "pygments_lexer": "ipython3",
   "version": "3.6.5"
  }
 },
 "nbformat": 4,
 "nbformat_minor": 4
}
