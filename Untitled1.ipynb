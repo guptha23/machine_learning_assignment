{
 "cells": [
  {
   "cell_type": "code",
   "execution_count": 1,
   "metadata": {},
   "outputs": [
    {
     "data": {
      "text/plain": [
       "'\\n\\nPredicting customer purchase amount.\\n\\nAuthors:\\n-------\\n\\nGroup-123\\n\\nSnigdha Tarua - 2019ab04171\\nSanka Mahesh Sai - 2019ab04135\\nAravapalli Chandra Sekhar Gupta - 2019ab04187\\n\\n'"
      ]
     },
     "execution_count": 1,
     "metadata": {},
     "output_type": "execute_result"
    }
   ],
   "source": [
    "\"\"\"\n",
    "\n",
    "Predicting customer purchase amount.\n",
    "\n",
    "Authors:\n",
    "-------\n",
    "\n",
    "Group-123\n",
    "\n",
    "Snigdha Tarua - 2019ab04171\n",
    "Sanka Mahesh Sai - 2019ab04135\n",
    "Aravapalli Chandra Sekhar Gupta - 2019ab04187\n",
    "\n",
    "\"\"\""
   ]
  },
  {
   "attachments": {},
   "cell_type": "markdown",
   "metadata": {},
   "source": [
    "## Problem Statement\n",
    "\n",
    "<hr>\n",
    "\n",
    "Predicting Customer Purchases. Analyze the data set and identify the most relevant factors that influence customer purchase behavior. Build a model that predicts the purchase amount of customer against various products so that the company can tailor their services and provide offers for customers towards different products.\n",
    "\n",
    "\n",
    "\n",
    "## List of objectives to be covered:\n",
    "\n",
    "<hr>\n",
    "\n",
    "1.\tWrite a Data Science Proposal for achieving the objective mentioned.\n",
    "2.\tPerform exploratory analysis on the data and describe your understanding of the data.\n",
    "3.\tPerform data wrangling / pre-processing (Module 8).\n",
    "    a.\tE.g., missing data, normalization, discretization, etc.\n",
    "4.\tApply any two feature selection engineering techniques (Module 8)\n",
    "5.\tCompare the two selected feature engineering techniques.\n",
    "6.\tPlot top 5, 6, and 8 features.\n",
    "7.\tProvide a high-level description of Machine Learning models – Logistic regression and Decision tree to predict.\n",
    "8.\tCompare the performance of the two classifiers – Logistic regression and Decision tree to predict.\n",
    "9.\tPresent the conclusions/results in the format shared.\n"
   ]
  },
  {
   "cell_type": "code",
   "execution_count": 2,
   "metadata": {},
   "outputs": [
    {
     "data": {
      "text/html": [
       "<div>\n",
       "<style scoped>\n",
       "    .dataframe tbody tr th:only-of-type {\n",
       "        vertical-align: middle;\n",
       "    }\n",
       "\n",
       "    .dataframe tbody tr th {\n",
       "        vertical-align: top;\n",
       "    }\n",
       "\n",
       "    .dataframe thead th {\n",
       "        text-align: right;\n",
       "    }\n",
       "</style>\n",
       "<table border=\"1\" class=\"dataframe\">\n",
       "  <thead>\n",
       "    <tr style=\"text-align: right;\">\n",
       "      <th></th>\n",
       "      <th>User_ID</th>\n",
       "      <th>Product_ID</th>\n",
       "      <th>Gender</th>\n",
       "      <th>Age</th>\n",
       "      <th>Occupation</th>\n",
       "      <th>City_Category</th>\n",
       "      <th>Stay_In_Current_City_Years</th>\n",
       "      <th>Marital_Status</th>\n",
       "      <th>Product_Category_1</th>\n",
       "      <th>Product_Category_2</th>\n",
       "      <th>Product_Category_3</th>\n",
       "      <th>Purchase</th>\n",
       "    </tr>\n",
       "  </thead>\n",
       "  <tbody>\n",
       "    <tr>\n",
       "      <th>0</th>\n",
       "      <td>1000001</td>\n",
       "      <td>P00069042</td>\n",
       "      <td>F</td>\n",
       "      <td>0-17</td>\n",
       "      <td>10</td>\n",
       "      <td>A</td>\n",
       "      <td>2</td>\n",
       "      <td>0</td>\n",
       "      <td>3</td>\n",
       "      <td>NaN</td>\n",
       "      <td>NaN</td>\n",
       "      <td>8370</td>\n",
       "    </tr>\n",
       "    <tr>\n",
       "      <th>1</th>\n",
       "      <td>1000001</td>\n",
       "      <td>P00248942</td>\n",
       "      <td>F</td>\n",
       "      <td>0-17</td>\n",
       "      <td>10</td>\n",
       "      <td>A</td>\n",
       "      <td>2</td>\n",
       "      <td>0</td>\n",
       "      <td>1</td>\n",
       "      <td>6.0</td>\n",
       "      <td>14.0</td>\n",
       "      <td>15200</td>\n",
       "    </tr>\n",
       "    <tr>\n",
       "      <th>2</th>\n",
       "      <td>1000001</td>\n",
       "      <td>P00087842</td>\n",
       "      <td>F</td>\n",
       "      <td>0-17</td>\n",
       "      <td>10</td>\n",
       "      <td>A</td>\n",
       "      <td>2</td>\n",
       "      <td>0</td>\n",
       "      <td>12</td>\n",
       "      <td>NaN</td>\n",
       "      <td>NaN</td>\n",
       "      <td>1422</td>\n",
       "    </tr>\n",
       "    <tr>\n",
       "      <th>3</th>\n",
       "      <td>1000001</td>\n",
       "      <td>P00085442</td>\n",
       "      <td>F</td>\n",
       "      <td>0-17</td>\n",
       "      <td>10</td>\n",
       "      <td>A</td>\n",
       "      <td>2</td>\n",
       "      <td>0</td>\n",
       "      <td>12</td>\n",
       "      <td>14.0</td>\n",
       "      <td>NaN</td>\n",
       "      <td>1057</td>\n",
       "    </tr>\n",
       "    <tr>\n",
       "      <th>4</th>\n",
       "      <td>1000002</td>\n",
       "      <td>P00285442</td>\n",
       "      <td>M</td>\n",
       "      <td>55+</td>\n",
       "      <td>16</td>\n",
       "      <td>C</td>\n",
       "      <td>4+</td>\n",
       "      <td>0</td>\n",
       "      <td>8</td>\n",
       "      <td>NaN</td>\n",
       "      <td>NaN</td>\n",
       "      <td>7969</td>\n",
       "    </tr>\n",
       "  </tbody>\n",
       "</table>\n",
       "</div>"
      ],
      "text/plain": [
       "   User_ID Product_ID Gender   Age  Occupation City_Category  \\\n",
       "0  1000001  P00069042      F  0-17          10             A   \n",
       "1  1000001  P00248942      F  0-17          10             A   \n",
       "2  1000001  P00087842      F  0-17          10             A   \n",
       "3  1000001  P00085442      F  0-17          10             A   \n",
       "4  1000002  P00285442      M   55+          16             C   \n",
       "\n",
       "  Stay_In_Current_City_Years  Marital_Status  Product_Category_1  \\\n",
       "0                          2               0                   3   \n",
       "1                          2               0                   1   \n",
       "2                          2               0                  12   \n",
       "3                          2               0                  12   \n",
       "4                         4+               0                   8   \n",
       "\n",
       "   Product_Category_2  Product_Category_3  Purchase  \n",
       "0                 NaN                 NaN      8370  \n",
       "1                 6.0                14.0     15200  \n",
       "2                 NaN                 NaN      1422  \n",
       "3                14.0                 NaN      1057  \n",
       "4                 NaN                 NaN      7969  "
      ]
     },
     "execution_count": 2,
     "metadata": {},
     "output_type": "execute_result"
    }
   ],
   "source": [
    "import pandas as pd\n",
    "import numpy as np\n",
    "\n",
    "# loading the dataset\n",
    "data = pd.read_csv(\"CustPurchTrain.csv\")\n",
    "data.head()"
   ]
  },
  {
   "cell_type": "markdown",
   "metadata": {},
   "source": [
    "### Perform exploratory analysis on the data and describe your understanding of the data."
   ]
  },
  {
   "cell_type": "code",
   "execution_count": 3,
   "metadata": {},
   "outputs": [
    {
     "name": "stdout",
     "output_type": "stream",
     "text": [
      "<class 'pandas.core.frame.DataFrame'>\n",
      "RangeIndex: 550068 entries, 0 to 550067\n",
      "Data columns (total 12 columns):\n",
      " #   Column                      Non-Null Count   Dtype  \n",
      "---  ------                      --------------   -----  \n",
      " 0   user_id                     550068 non-null  int64  \n",
      " 1   product_id                  550068 non-null  object \n",
      " 2   gender                      550068 non-null  object \n",
      " 3   age                         550068 non-null  object \n",
      " 4   occupation                  550068 non-null  int64  \n",
      " 5   city_category               550068 non-null  object \n",
      " 6   stay_in_current_city_years  550068 non-null  object \n",
      " 7   marital_status              550068 non-null  int64  \n",
      " 8   product_category_1          550068 non-null  int64  \n",
      " 9   product_category_2          376430 non-null  float64\n",
      " 10  product_category_3          166821 non-null  float64\n",
      " 11  purchase                    550068 non-null  int64  \n",
      "dtypes: float64(2), int64(5), object(5)\n",
      "memory usage: 50.4+ MB\n"
     ]
    }
   ],
   "source": [
    "# converting column names to lower case.\n",
    "data.columns = [x.lower() for x in data.columns]\n",
    "data.info()"
   ]
  },
  {
   "cell_type": "code",
   "execution_count": 4,
   "metadata": {},
   "outputs": [
    {
     "data": {
      "text/html": [
       "<div>\n",
       "<style scoped>\n",
       "    .dataframe tbody tr th:only-of-type {\n",
       "        vertical-align: middle;\n",
       "    }\n",
       "\n",
       "    .dataframe tbody tr th {\n",
       "        vertical-align: top;\n",
       "    }\n",
       "\n",
       "    .dataframe thead th {\n",
       "        text-align: right;\n",
       "    }\n",
       "</style>\n",
       "<table border=\"1\" class=\"dataframe\">\n",
       "  <thead>\n",
       "    <tr style=\"text-align: right;\">\n",
       "      <th></th>\n",
       "      <th>user_id</th>\n",
       "      <th>occupation</th>\n",
       "      <th>marital_status</th>\n",
       "      <th>product_category_1</th>\n",
       "      <th>product_category_2</th>\n",
       "      <th>product_category_3</th>\n",
       "      <th>purchase</th>\n",
       "    </tr>\n",
       "  </thead>\n",
       "  <tbody>\n",
       "    <tr>\n",
       "      <th>count</th>\n",
       "      <td>550068.00</td>\n",
       "      <td>550068.00</td>\n",
       "      <td>550068.00</td>\n",
       "      <td>550068.00</td>\n",
       "      <td>376430.00</td>\n",
       "      <td>166821.00</td>\n",
       "      <td>550068.00</td>\n",
       "    </tr>\n",
       "    <tr>\n",
       "      <th>mean</th>\n",
       "      <td>1003028.84</td>\n",
       "      <td>8.08</td>\n",
       "      <td>0.41</td>\n",
       "      <td>5.40</td>\n",
       "      <td>9.84</td>\n",
       "      <td>12.67</td>\n",
       "      <td>9263.97</td>\n",
       "    </tr>\n",
       "    <tr>\n",
       "      <th>std</th>\n",
       "      <td>1727.59</td>\n",
       "      <td>6.52</td>\n",
       "      <td>0.49</td>\n",
       "      <td>3.94</td>\n",
       "      <td>5.09</td>\n",
       "      <td>4.13</td>\n",
       "      <td>5023.07</td>\n",
       "    </tr>\n",
       "    <tr>\n",
       "      <th>min</th>\n",
       "      <td>1000001.00</td>\n",
       "      <td>0.00</td>\n",
       "      <td>0.00</td>\n",
       "      <td>1.00</td>\n",
       "      <td>2.00</td>\n",
       "      <td>3.00</td>\n",
       "      <td>12.00</td>\n",
       "    </tr>\n",
       "    <tr>\n",
       "      <th>25%</th>\n",
       "      <td>1001516.00</td>\n",
       "      <td>2.00</td>\n",
       "      <td>0.00</td>\n",
       "      <td>1.00</td>\n",
       "      <td>5.00</td>\n",
       "      <td>9.00</td>\n",
       "      <td>5823.00</td>\n",
       "    </tr>\n",
       "    <tr>\n",
       "      <th>50%</th>\n",
       "      <td>1003077.00</td>\n",
       "      <td>7.00</td>\n",
       "      <td>0.00</td>\n",
       "      <td>5.00</td>\n",
       "      <td>9.00</td>\n",
       "      <td>14.00</td>\n",
       "      <td>8047.00</td>\n",
       "    </tr>\n",
       "    <tr>\n",
       "      <th>75%</th>\n",
       "      <td>1004478.00</td>\n",
       "      <td>14.00</td>\n",
       "      <td>1.00</td>\n",
       "      <td>8.00</td>\n",
       "      <td>15.00</td>\n",
       "      <td>16.00</td>\n",
       "      <td>12054.00</td>\n",
       "    </tr>\n",
       "    <tr>\n",
       "      <th>max</th>\n",
       "      <td>1006040.00</td>\n",
       "      <td>20.00</td>\n",
       "      <td>1.00</td>\n",
       "      <td>20.00</td>\n",
       "      <td>18.00</td>\n",
       "      <td>18.00</td>\n",
       "      <td>23961.00</td>\n",
       "    </tr>\n",
       "  </tbody>\n",
       "</table>\n",
       "</div>"
      ],
      "text/plain": [
       "         user_id  occupation  marital_status  product_category_1  \\\n",
       "count  550068.00   550068.00       550068.00           550068.00   \n",
       "mean  1003028.84        8.08            0.41                5.40   \n",
       "std      1727.59        6.52            0.49                3.94   \n",
       "min   1000001.00        0.00            0.00                1.00   \n",
       "25%   1001516.00        2.00            0.00                1.00   \n",
       "50%   1003077.00        7.00            0.00                5.00   \n",
       "75%   1004478.00       14.00            1.00                8.00   \n",
       "max   1006040.00       20.00            1.00               20.00   \n",
       "\n",
       "       product_category_2  product_category_3  purchase  \n",
       "count           376430.00           166821.00 550068.00  \n",
       "mean                 9.84               12.67   9263.97  \n",
       "std                  5.09                4.13   5023.07  \n",
       "min                  2.00                3.00     12.00  \n",
       "25%                  5.00                9.00   5823.00  \n",
       "50%                  9.00               14.00   8047.00  \n",
       "75%                 15.00               16.00  12054.00  \n",
       "max                 18.00               18.00  23961.00  "
      ]
     },
     "execution_count": 4,
     "metadata": {},
     "output_type": "execute_result"
    }
   ],
   "source": [
    "# let's understand briefly about data distribution.\n",
    "# removing scientific notation to understand the data better.\n",
    "pd.options.display.float_format = \"{:.2f}\".format\n",
    "data.describe()"
   ]
  },
  {
   "cell_type": "code",
   "execution_count": 9,
   "metadata": {},
   "outputs": [
    {
     "data": {
      "text/plain": [
       "user_id                       0\n",
       "product_id                    0\n",
       "gender                        0\n",
       "age                           0\n",
       "occupation                    0\n",
       "city_category                 0\n",
       "stay_in_current_city_years    0\n",
       "marital_status                0\n",
       "product_category_1            0\n",
       "product_category_2            0\n",
       "product_category_3            0\n",
       "purchase                      0\n",
       "dtype: int64"
      ]
     },
     "execution_count": 9,
     "metadata": {},
     "output_type": "execute_result"
    }
   ],
   "source": [
    "data.isnull().sum()"
   ]
  },
  {
   "cell_type": "code",
   "execution_count": 6,
   "metadata": {},
   "outputs": [],
   "source": [
    "def string_conversion(col):\n",
    "    data[col] = data[col].astype(str)"
   ]
  },
  {
   "cell_type": "code",
   "execution_count": 7,
   "metadata": {},
   "outputs": [],
   "source": [
    "cols = [\"user_id\", \"marital_status\", \"product_category_1\", \"product_category_2\", \"product_category_3\"]\n",
    "\n",
    "for col in cols:\n",
    "    string_conversion(col)\n"
   ]
  },
  {
   "cell_type": "code",
   "execution_count": 8,
   "metadata": {},
   "outputs": [
    {
     "data": {
      "text/html": [
       "<div>\n",
       "<style scoped>\n",
       "    .dataframe tbody tr th:only-of-type {\n",
       "        vertical-align: middle;\n",
       "    }\n",
       "\n",
       "    .dataframe tbody tr th {\n",
       "        vertical-align: top;\n",
       "    }\n",
       "\n",
       "    .dataframe thead th {\n",
       "        text-align: right;\n",
       "    }\n",
       "</style>\n",
       "<table border=\"1\" class=\"dataframe\">\n",
       "  <thead>\n",
       "    <tr style=\"text-align: right;\">\n",
       "      <th></th>\n",
       "      <th>user_id</th>\n",
       "      <th>product_id</th>\n",
       "      <th>gender</th>\n",
       "      <th>age</th>\n",
       "      <th>city_category</th>\n",
       "      <th>stay_in_current_city_years</th>\n",
       "      <th>marital_status</th>\n",
       "      <th>product_category_1</th>\n",
       "      <th>product_category_2</th>\n",
       "      <th>product_category_3</th>\n",
       "    </tr>\n",
       "  </thead>\n",
       "  <tbody>\n",
       "    <tr>\n",
       "      <th>count</th>\n",
       "      <td>550068</td>\n",
       "      <td>550068</td>\n",
       "      <td>550068</td>\n",
       "      <td>550068</td>\n",
       "      <td>550068</td>\n",
       "      <td>550068</td>\n",
       "      <td>550068</td>\n",
       "      <td>550068</td>\n",
       "      <td>550068</td>\n",
       "      <td>550068</td>\n",
       "    </tr>\n",
       "    <tr>\n",
       "      <th>unique</th>\n",
       "      <td>5891</td>\n",
       "      <td>3631</td>\n",
       "      <td>2</td>\n",
       "      <td>7</td>\n",
       "      <td>3</td>\n",
       "      <td>5</td>\n",
       "      <td>2</td>\n",
       "      <td>20</td>\n",
       "      <td>18</td>\n",
       "      <td>16</td>\n",
       "    </tr>\n",
       "    <tr>\n",
       "      <th>top</th>\n",
       "      <td>1001680</td>\n",
       "      <td>P00265242</td>\n",
       "      <td>M</td>\n",
       "      <td>26-35</td>\n",
       "      <td>B</td>\n",
       "      <td>1</td>\n",
       "      <td>0</td>\n",
       "      <td>5</td>\n",
       "      <td>nan</td>\n",
       "      <td>nan</td>\n",
       "    </tr>\n",
       "    <tr>\n",
       "      <th>freq</th>\n",
       "      <td>1026</td>\n",
       "      <td>1880</td>\n",
       "      <td>414259</td>\n",
       "      <td>219587</td>\n",
       "      <td>231173</td>\n",
       "      <td>193821</td>\n",
       "      <td>324731</td>\n",
       "      <td>150933</td>\n",
       "      <td>173638</td>\n",
       "      <td>383247</td>\n",
       "    </tr>\n",
       "  </tbody>\n",
       "</table>\n",
       "</div>"
      ],
      "text/plain": [
       "        user_id product_id  gender     age city_category  \\\n",
       "count    550068     550068  550068  550068        550068   \n",
       "unique     5891       3631       2       7             3   \n",
       "top     1001680  P00265242       M   26-35             B   \n",
       "freq       1026       1880  414259  219587        231173   \n",
       "\n",
       "       stay_in_current_city_years marital_status product_category_1  \\\n",
       "count                      550068         550068             550068   \n",
       "unique                          5              2                 20   \n",
       "top                             1              0                  5   \n",
       "freq                       193821         324731             150933   \n",
       "\n",
       "       product_category_2 product_category_3  \n",
       "count              550068             550068  \n",
       "unique                 18                 16  \n",
       "top                   nan                nan  \n",
       "freq               173638             383247  "
      ]
     },
     "execution_count": 8,
     "metadata": {},
     "output_type": "execute_result"
    }
   ],
   "source": [
    "# looking at distribution of categorical columns\n",
    "data.describe(include=\"object\")"
   ]
  },
  {
   "cell_type": "code",
   "execution_count": 21,
   "metadata": {},
   "outputs": [],
   "source": [
    "import seaborn as sns\n",
    "import matplotlib.pyplot as plt\n",
    "\n",
    "def print_dist(col):\n",
    "    print(col+\" Distribution\")\n",
    "    print(\"----------------\")\n",
    "    count_dict = dict(data[col].value_counts())\n",
    "    count_dict_percentage = dict(data[col].value_counts(normalize=True))\n",
    "\n",
    "    print(\"Value\\tCount\\tPercentage\")\n",
    "    for key in count_dict:\n",
    "        print(key+\"\\t\"+str(count_dict[key])+\"\\t\"+str(count_dict_percentage[key].round(2)))\n",
    "\n",
    "    sns.countplot(data[col])\n",
    "    plt.show()"
   ]
  },
  {
   "cell_type": "code",
   "execution_count": 22,
   "metadata": {
    "scrolled": false
   },
   "outputs": [
    {
     "name": "stdout",
     "output_type": "stream",
     "text": [
      "marital_status Distribution\n",
      "----------------\n",
      "Value\tCount\tPercentage\n",
      "0\t324731\t0.59\n",
      "1\t225337\t0.41\n"
     ]
    },
    {
     "data": {
      "image/png": "[encoded data removed]",
      "text/plain": [
       "<Figure size 432x288 with 1 Axes>"
      ]
     },
     "metadata": {
      "needs_background": "light"
     },
     "output_type": "display_data"
    },
    {
     "name": "stdout",
     "output_type": "stream",
     "text": [
      "product_category_1 Distribution\n",
      "----------------\n",
      "Value\tCount\tPercentage\n",
      "5\t150933\t0.27\n",
      "1\t140378\t0.26\n",
      "8\t113925\t0.21\n",
      "11\t24287\t0.04\n",
      "2\t23864\t0.04\n",
      "6\t20466\t0.04\n",
      "3\t20213\t0.04\n",
      "4\t11753\t0.02\n",
      "16\t9828\t0.02\n",
      "15\t6290\t0.01\n",
      "13\t5549\t0.01\n",
      "10\t5125\t0.01\n",
      "12\t3947\t0.01\n",
      "7\t3721\t0.01\n",
      "18\t3125\t0.01\n",
      "20\t2550\t0.0\n",
      "19\t1603\t0.0\n",
      "14\t1523\t0.0\n",
      "17\t578\t0.0\n",
      "9\t410\t0.0\n"
     ]
    },
    {
     "data": {
      "image/png": "[encoded data removed]",
      "text/plain": [
       "<Figure size 432x288 with 1 Axes>"
      ]
     },
     "metadata": {
      "needs_background": "light"
     },
     "output_type": "display_data"
    },
    {
     "name": "stdout",
     "output_type": "stream",
     "text": [
      "product_category_2 Distribution\n",
      "----------------\n",
      "Value\tCount\tPercentage\n",
      "nan\t173638\t0.32\n",
      "8.0\t64088\t0.12\n",
      "14.0\t55108\t0.1\n",
      "2.0\t49217\t0.09\n",
      "16.0\t43255\t0.08\n",
      "15.0\t37855\t0.07\n",
      "5.0\t26235\t0.05\n",
      "4.0\t25677\t0.05\n",
      "6.0\t16466\t0.03\n",
      "11.0\t14134\t0.03\n",
      "17.0\t13320\t0.02\n",
      "13.0\t10531\t0.02\n",
      "9.0\t5693\t0.01\n",
      "12.0\t5528\t0.01\n",
      "10.0\t3043\t0.01\n",
      "3.0\t2884\t0.01\n",
      "18.0\t2770\t0.01\n",
      "7.0\t626\t0.0\n"
     ]
    },
    {
     "data": {
      "image/png": "[encoded data removed]",
      "text/plain": [
       "<Figure size 432x288 with 1 Axes>"
      ]
     },
     "metadata": {
      "needs_background": "light"
     },
     "output_type": "display_data"
    },
    {
     "name": "stdout",
     "output_type": "stream",
     "text": [
      "product_category_3 Distribution\n",
      "----------------\n",
      "Value\tCount\tPercentage\n",
      "nan\t383247\t0.7\n",
      "16.0\t32636\t0.06\n",
      "15.0\t28013\t0.05\n",
      "14.0\t18428\t0.03\n",
      "17.0\t16702\t0.03\n",
      "5.0\t16658\t0.03\n",
      "8.0\t12562\t0.02\n",
      "9.0\t11579\t0.02\n",
      "12.0\t9246\t0.02\n",
      "13.0\t5459\t0.01\n",
      "6.0\t4890\t0.01\n",
      "18.0\t4629\t0.01\n",
      "4.0\t1875\t0.0\n",
      "11.0\t1805\t0.0\n",
      "10.0\t1726\t0.0\n",
      "3.0\t613\t0.0\n"
     ]
    },
    {
     "data": {
      "image/png": "[encoded data removed]",
      "text/plain": [
       "<Figure size 432x288 with 1 Axes>"
      ]
     },
     "metadata": {
      "needs_background": "light"
     },
     "output_type": "display_data"
    }
   ],
   "source": [
    "object_cols = [\"marital_status\", \"product_category_1\", \"product_category_2\", \"product_category_3\"]\n",
    "\n",
    "\n",
    "\n",
    "for col in object_cols:\n",
    "    print_dist(col)"
   ]
  },
  {
   "cell_type": "code",
   "execution_count": null,
   "metadata": {},
   "outputs": [],
   "source": []
  }
 ],
 "metadata": {
  "kernelspec": {
   "display_name": "Python 3",
   "language": "python",
   "name": "python3"
  },
  "language_info": {
   "codemirror_mode": {
    "name": "ipython",
    "version": 3
   },
   "file_extension": ".py",
   "mimetype": "text/x-python",
   "name": "python",
   "nbconvert_exporter": "python",
   "pygments_lexer": "ipython3",
   "version": "3.7.9"
  }
 },
 "nbformat": 4,
 "nbformat_minor": 4
}
