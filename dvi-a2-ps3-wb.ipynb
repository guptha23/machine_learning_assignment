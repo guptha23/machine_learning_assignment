{
 "cells": [
  {
   "cell_type": "markdown",
   "metadata": {},
   "source": [
    "<img src = \"https://www.bits-pilani.ac.in/Uploads/Campus/BITS_university_logo.gif\">"
   ]
  },
  {
   "cell_type": "markdown",
   "metadata": {},
   "source": [
    "<h1><center>Work Integrated Learning Programmes Division<br>\n",
    "M.Tech (Data Science and Engineering)<br> Data Visualization And Interpretation (DSECL ZG555))<br>\n",
    "Second Semester, 2019-20\n",
    "</center></h1>\n",
    "\n",
    "<h2><center>Assignment 2 – PS3 [Weightage 13%]</center></h2>"
   ]
  },
  {
   "cell_type": "markdown",
   "metadata": {},
   "source": [
    "<ol>\n",
    "  <li>Do not change the name of the data file that is shared with the problem statement.</li>\n",
    "  <li>If intermediate data files are created, retain in the present working directory and attach them during submission.</li>\n",
    "  <li>Retain the data file in the same directory as that of this workbook.</li>\n",
    "  <li>Retain the Visualizations that is produced in the file. Don't clear them away.</li>\n",
    "  <li>Submit only the .IPYNB file. Intermediate files to be attached as mentioned in (2).</li>\n",
    "  <li>All the visuals should adhere to the visualization principles learnt in the Course.</li>\n",
    "  <li>All your visuals should be adequately labelled.</li>\n",
    "  <li>Fill in the below asked information.</li>\n",
    "</ol>"
   ]
  },
  {
   "cell_type": "markdown",
   "metadata": {},
   "source": [
    "<style>\n",
    "table {\n",
    "  font-family: arial, sans-serif;\n",
    "  border-collapse: collapse;\n",
    "  width: 100%;\n",
    "}\n",
    "\n",
    "td, th {\n",
    "  border: 1px solid #dddddd;\n",
    "  text-align: left;\n",
    "  padding: 8px;\n",
    "}\n",
    "\n",
    "tr:nth-child(even) {\n",
    "  background-color: #dddddd;\n",
    "}\n",
    "</style>\n",
    "\n",
    "<h2>Group No</h2>\n",
    "\n",
    "<table>\n",
    "  <tr>\n",
    "    <th>Full Name</th>\n",
    "    <th>BITS ID</th>\n",
    "  </tr>\n",
    "  <tr>\n",
    "    <td>Name 1</td>\n",
    "    <td>BITS ID 1</td>\n",
    "  </tr>\n",
    "  <tr>\n",
    "    <td>Name 2</td>\n",
    "    <td>BITS ID 2</td>\n",
    "  </tr>\n",
    "  <tr>\n",
    "    <td>Name 3</td>\n",
    "    <td>BITS ID 3</td>\n",
    "  </tr>\n",
    "</table>"
   ]
  },
  {
   "cell_type": "markdown",
   "metadata": {},
   "source": [
    "<h3>Objective</h3>\n",
    "<h4>What are the features which have the most impact on the car price?</h4>"
   ]
  },
  {
   "cell_type": "markdown",
   "metadata": {},
   "source": [
    "##  Download and Prep the Data: 3 Marks"
   ]
  },
  {
   "cell_type": "markdown",
   "metadata": {},
   "source": [
    "<h4>Import the libraries needed</h4>"
   ]
  },
  {
   "cell_type": "code",
   "execution_count": null,
   "metadata": {},
   "outputs": [],
   "source": []
  },
  {
   "cell_type": "markdown",
   "metadata": {},
   "source": [
    "<h4> Load data and store in dataframe </h4>"
   ]
  },
  {
   "cell_type": "code",
   "execution_count": null,
   "metadata": {},
   "outputs": [],
   "source": []
  },
  {
   "cell_type": "markdown",
   "metadata": {},
   "source": [
    "<h4>Find out  what type of variable you are dealing with. This will help you find the right visualization method for that variable.</p>\n"
   ]
  },
  {
   "cell_type": "code",
   "execution_count": null,
   "metadata": {},
   "outputs": [],
   "source": []
  },
  {
   "cell_type": "markdown",
   "metadata": {},
   "source": [
    "<h4> Find the correlation between the following columns: bore, stroke,compression-ratio , and horsepower<br>\n",
    "Write down your observations in a markdown cell below <h4>"
   ]
  },
  {
   "cell_type": "code",
   "execution_count": null,
   "metadata": {},
   "outputs": [],
   "source": []
  },
  {
   "cell_type": "markdown",
   "metadata": {},
   "source": [
    "# Visualisation Questions - 2X5 = 10 Marks"
   ]
  },
  {
   "cell_type": "markdown",
   "metadata": {},
   "source": [
    "### Question 1\n",
    "<h4>What kind of a correlation exists between<br><br>\n",
    "    a.\"engine-size\" and \"price\"<br><br>\n",
    "    b.\"highway-mpg\" and \"price\"<br><br>\n",
    "    c.\"peak-rpm\" and \"price\"<br><br>\n",
    "    Use appropriate visuals to demonstrate the same.Use subplots.\n",
    "<h4>Clearly mention in markdown cells below the visual <br><br>1.You obseravtaion about the relationship .Which among engine-size ,highway-mpg and peak-rpm is a potential predictor variable of price<br><br>\n",
    "    2.The reason for selecting the chart type you did in a markdown cell below"
   ]
  },
  {
   "cell_type": "code",
   "execution_count": null,
   "metadata": {},
   "outputs": [],
   "source": []
  },
  {
   "cell_type": "code",
   "execution_count": null,
   "metadata": {},
   "outputs": [],
   "source": []
  },
  {
   "cell_type": "markdown",
   "metadata": {},
   "source": [
    "### Question 2\n",
    "<h4> Use boxplots to visualise the relationship between<br>\n",
    "    a.\"body-style\" and \"price\". <br><br>\n",
    "    b.\"engine-location\" and \"price\" <br><br>\n",
    "    c.\"drive-wheels\"and \"price\" <br><br>   \n",
    "    Use appropriate visuals to demonstrate the same.Use subplots.\n",
    "<h4>Clearly mention in markdown cells below the visual <br>1.Your observataion about the relationship .Which among engine-location ,body-style and drive-wheels is a potential predictor variable of price<br>\n",
    "    "
   ]
  },
  {
   "cell_type": "code",
   "execution_count": null,
   "metadata": {},
   "outputs": [],
   "source": []
  },
  {
   "cell_type": "code",
   "execution_count": null,
   "metadata": {},
   "outputs": [],
   "source": []
  },
  {
   "cell_type": "markdown",
   "metadata": {},
   "source": [
    "### Question 3 \n",
    "<h4> Perform a Descriptive Statistical Analysis of the data set<br>\n",
    "    Compute basic statistics for all continuous variables"
   ]
  },
  {
   "cell_type": "code",
   "execution_count": null,
   "metadata": {},
   "outputs": [],
   "source": []
  },
  {
   "cell_type": "markdown",
   "metadata": {},
   "source": [
    "  ### Question 4\n",
    "  <h4> Perform a Descriptive Statistical Analysis of the data set<br>\n",
    "    Compute basic statistics for all variables of type 'Object'"
   ]
  },
  {
   "cell_type": "code",
   "execution_count": null,
   "metadata": {},
   "outputs": [],
   "source": []
  },
  {
   "cell_type": "markdown",
   "metadata": {},
   "source": [
    "### Question 5\n",
    "<h4> Use a single heat map to visualize the relationship between Body Style and Drive-wheel vs Price.</h4>\n",
    "<h4>Perform the data preprocessing required.<br>\n",
    "\n",
    "<p>The heatmap should plot  the target variable (price) proportional to colour with respect to the variables 'drive-wheel' and 'body-style' in the vertical and horizontal axis respectively. This allows us to visualize how the price is related to 'drive-wheel' and 'body-style'.</p>\n",
    "\n",
    "The plot should have labels for x axis and y axis<br>\n",
    "Write down your observations in a markdown cell below the visual</h4>"
   ]
  },
  {
   "cell_type": "code",
   "execution_count": null,
   "metadata": {},
   "outputs": [],
   "source": []
  },
  {
   "cell_type": "markdown",
   "metadata": {},
   "source": [
    "#### Summarize your observations"
   ]
  },
  {
   "cell_type": "code",
   "execution_count": null,
   "metadata": {},
   "outputs": [],
   "source": []
  },
  {
   "cell_type": "markdown",
   "metadata": {},
   "source": [
    "<h3><center>END OF ASSIGNMENT</center><h34>"
   ]
  }
 ],
 "metadata": {
  "anaconda-cloud": {},
  "kernelspec": {
   "display_name": "conda_python3",
   "language": "python",
   "name": "conda_python3"
  },
  "language_info": {
   "codemirror_mode": {
    "name": "ipython",
    "version": 3
   },
   "file_extension": ".py",
   "mimetype": "text/x-python",
   "name": "python",
   "nbconvert_exporter": "python",
   "pygments_lexer": "ipython3",
   "version": "3.6.10"
  }
 },
 "nbformat": 4,
 "nbformat_minor": 2
}
